{
  "nbformat": 4,
  "nbformat_minor": 0,
  "metadata": {
    "colab": {
      "name": "VQA Plane Classifier.ipynb",
      "provenance": [],
      "collapsed_sections": [],
      "authorship_tag": "ABX9TyON6j5JDoZS+B9IOcD30poT",
      "include_colab_link": true
    },
    "kernelspec": {
      "name": "python3",
      "display_name": "Python 3"
    },
    "accelerator": "GPU"
  },
  "cells": [
    {
      "cell_type": "markdown",
      "metadata": {
        "id": "view-in-github",
        "colab_type": "text"
      },
      "source": [
        "<a href=\"https://colab.research.google.com/github/rohts-patil/VQA-Med-2019/blob/master/notebooks/VQA_Plane_Classifier.ipynb\" target=\"_parent\"><img src=\"https://colab.research.google.com/assets/colab-badge.svg\" alt=\"Open In Colab\"/></a>"
      ]
    },
    {
      "cell_type": "code",
      "metadata": {
        "id": "MYcoABWmE9xx",
        "colab_type": "code",
        "outputId": "01f9ba86-eaee-4072-8c9f-68440266f445",
        "colab": {
          "base_uri": "https://localhost:8080/",
          "height": 50
        }
      },
      "source": [
        "from google.colab import drive\n",
        "drive.mount('/gdrive')\n",
        "%cd /gdrive/My\\ Drive/VQA"
      ],
      "execution_count": 1,
      "outputs": [
        {
          "output_type": "stream",
          "text": [
            "Drive already mounted at /gdrive; to attempt to forcibly remount, call drive.mount(\"/gdrive\", force_remount=True).\n",
            "/gdrive/My Drive/VQA\n"
          ],
          "name": "stdout"
        }
      ]
    },
    {
      "cell_type": "code",
      "metadata": {
        "id": "5FKB1_buFP9C",
        "colab_type": "code",
        "colab": {}
      },
      "source": [
        "import glob\n",
        "import random\n",
        "\n",
        "import numpy as np\n",
        "import pandas as pd\n",
        "\n",
        "import time\n",
        "import datetime as dt\n",
        "import matplotlib.pyplot as plt\n",
        "from mpl_toolkits.axes_grid1 import ImageGrid\n",
        "from sklearn.preprocessing import LabelEncoder\n",
        "from os import listdir, makedirs, getcwd, remove\n",
        "from os.path import isfile, join, abspath, exists, isdir, expanduser\n",
        "from PIL import Image\n",
        "import torch\n",
        "from torch.optim import lr_scheduler\n",
        "from torch.autograd import Variable\n",
        "from torch.utils.data import Dataset, DataLoader\n",
        "import torchvision\n",
        "from torchvision import transforms, datasets, models\n",
        "from torch import optim, cuda\n",
        "from timeit import default_timer as timer"
      ],
      "execution_count": 0,
      "outputs": []
    },
    {
      "cell_type": "code",
      "metadata": {
        "id": "hr9KuYrTFa2U",
        "colab_type": "code",
        "colab": {}
      },
      "source": [
        "path =r'train/QAPairsByCategory'\n",
        "\n",
        "filenames = glob.glob(path + \"/*.txt\")\n",
        "\n",
        "dfs = []\n",
        "\n",
        "for filename in filenames:\n",
        "    df_temp = pd.read_csv(filename,delimiter='|',names=['id','question','answer'])\n",
        "    df_temp['label'] = df_temp.apply(lambda x: ((filename.split('/')[-1].replace('_train.txt',''))), axis=1)\n",
        "    dfs.append(df_temp)\n",
        "\n",
        "df_train = pd.concat(dfs, ignore_index=True)"
      ],
      "execution_count": 0,
      "outputs": []
    },
    {
      "cell_type": "code",
      "metadata": {
        "id": "7lhoc_zuFdOo",
        "colab_type": "code",
        "outputId": "5faec573-b42b-4b28-b291-a390343dc6ad",
        "colab": {
          "base_uri": "https://localhost:8080/",
          "height": 196
        }
      },
      "source": [
        "df_train.head()"
      ],
      "execution_count": 4,
      "outputs": [
        {
          "output_type": "execute_result",
          "data": {
            "text/html": [
              "<div>\n",
              "<style scoped>\n",
              "    .dataframe tbody tr th:only-of-type {\n",
              "        vertical-align: middle;\n",
              "    }\n",
              "\n",
              "    .dataframe tbody tr th {\n",
              "        vertical-align: top;\n",
              "    }\n",
              "\n",
              "    .dataframe thead th {\n",
              "        text-align: right;\n",
              "    }\n",
              "</style>\n",
              "<table border=\"1\" class=\"dataframe\">\n",
              "  <thead>\n",
              "    <tr style=\"text-align: right;\">\n",
              "      <th></th>\n",
              "      <th>id</th>\n",
              "      <th>question</th>\n",
              "      <th>answer</th>\n",
              "      <th>label</th>\n",
              "    </tr>\n",
              "  </thead>\n",
              "  <tbody>\n",
              "    <tr>\n",
              "      <th>0</th>\n",
              "      <td>synpic41148</td>\n",
              "      <td>what kind of image is this?</td>\n",
              "      <td>cta - ct angiography</td>\n",
              "      <td>C1_Modality</td>\n",
              "    </tr>\n",
              "    <tr>\n",
              "      <th>1</th>\n",
              "      <td>synpic43984</td>\n",
              "      <td>is this a t1 weighted image?</td>\n",
              "      <td>no</td>\n",
              "      <td>C1_Modality</td>\n",
              "    </tr>\n",
              "    <tr>\n",
              "      <th>2</th>\n",
              "      <td>synpic38930</td>\n",
              "      <td>what type of imaging modality is used to acqui...</td>\n",
              "      <td>us - ultrasound</td>\n",
              "      <td>C1_Modality</td>\n",
              "    </tr>\n",
              "    <tr>\n",
              "      <th>3</th>\n",
              "      <td>synpic52143</td>\n",
              "      <td>is this a noncontrast mri?</td>\n",
              "      <td>no</td>\n",
              "      <td>C1_Modality</td>\n",
              "    </tr>\n",
              "    <tr>\n",
              "      <th>4</th>\n",
              "      <td>synpic20934</td>\n",
              "      <td>what type of image modality is this?</td>\n",
              "      <td>xr - plain film</td>\n",
              "      <td>C1_Modality</td>\n",
              "    </tr>\n",
              "  </tbody>\n",
              "</table>\n",
              "</div>"
            ],
            "text/plain": [
              "            id  ...        label\n",
              "0  synpic41148  ...  C1_Modality\n",
              "1  synpic43984  ...  C1_Modality\n",
              "2  synpic38930  ...  C1_Modality\n",
              "3  synpic52143  ...  C1_Modality\n",
              "4  synpic20934  ...  C1_Modality\n",
              "\n",
              "[5 rows x 4 columns]"
            ]
          },
          "metadata": {
            "tags": []
          },
          "execution_count": 4
        }
      ]
    },
    {
      "cell_type": "code",
      "metadata": {
        "id": "FbkrB8kzbVVw",
        "colab_type": "code",
        "colab": {}
      },
      "source": [
        "path =r'val/QAPairsByCategory'\n",
        "\n",
        "filenames = glob.glob(path + \"/*.txt\")\n",
        "\n",
        "dfs = []\n",
        "\n",
        "for filename in filenames:\n",
        "    df_temp = pd.read_csv(filename,delimiter='|',names=['id','question','answer'])\n",
        "    df_temp['label'] = df_temp.apply(lambda x: (filename.split('/')[-1].replace('_val.txt','')), axis=1)\n",
        "    dfs.append(df_temp)\n",
        "\n",
        "df_valid = pd.concat(dfs, ignore_index=True)"
      ],
      "execution_count": 0,
      "outputs": []
    },
    {
      "cell_type": "code",
      "metadata": {
        "id": "b2pli5BmbaT9",
        "colab_type": "code",
        "outputId": "78455add-9d68-446e-febf-4398405b943e",
        "colab": {
          "base_uri": "https://localhost:8080/",
          "height": 196
        }
      },
      "source": [
        "df_valid.head()"
      ],
      "execution_count": 6,
      "outputs": [
        {
          "output_type": "execute_result",
          "data": {
            "text/html": [
              "<div>\n",
              "<style scoped>\n",
              "    .dataframe tbody tr th:only-of-type {\n",
              "        vertical-align: middle;\n",
              "    }\n",
              "\n",
              "    .dataframe tbody tr th {\n",
              "        vertical-align: top;\n",
              "    }\n",
              "\n",
              "    .dataframe thead th {\n",
              "        text-align: right;\n",
              "    }\n",
              "</style>\n",
              "<table border=\"1\" class=\"dataframe\">\n",
              "  <thead>\n",
              "    <tr style=\"text-align: right;\">\n",
              "      <th></th>\n",
              "      <th>id</th>\n",
              "      <th>question</th>\n",
              "      <th>answer</th>\n",
              "      <th>label</th>\n",
              "    </tr>\n",
              "  </thead>\n",
              "  <tbody>\n",
              "    <tr>\n",
              "      <th>0</th>\n",
              "      <td>synpic54733</td>\n",
              "      <td>what imaging modality was used to take this im...</td>\n",
              "      <td>ct with iv contrast</td>\n",
              "      <td>C1_Modality</td>\n",
              "    </tr>\n",
              "    <tr>\n",
              "      <th>1</th>\n",
              "      <td>synpic25647</td>\n",
              "      <td>what kind of scan is this?</td>\n",
              "      <td>xr - plain film</td>\n",
              "      <td>C1_Modality</td>\n",
              "    </tr>\n",
              "    <tr>\n",
              "      <th>2</th>\n",
              "      <td>synpic35681</td>\n",
              "      <td>was the mri taken with contrast?</td>\n",
              "      <td>no</td>\n",
              "      <td>C1_Modality</td>\n",
              "    </tr>\n",
              "    <tr>\n",
              "      <th>3</th>\n",
              "      <td>synpic39641</td>\n",
              "      <td>is this a t1 weighted, t2 weighted, or flair i...</td>\n",
              "      <td>t2</td>\n",
              "      <td>C1_Modality</td>\n",
              "    </tr>\n",
              "    <tr>\n",
              "      <th>4</th>\n",
              "      <td>synpic35693</td>\n",
              "      <td>is this a noncontrast mri?</td>\n",
              "      <td>yes</td>\n",
              "      <td>C1_Modality</td>\n",
              "    </tr>\n",
              "  </tbody>\n",
              "</table>\n",
              "</div>"
            ],
            "text/plain": [
              "            id  ...        label\n",
              "0  synpic54733  ...  C1_Modality\n",
              "1  synpic25647  ...  C1_Modality\n",
              "2  synpic35681  ...  C1_Modality\n",
              "3  synpic39641  ...  C1_Modality\n",
              "4  synpic35693  ...  C1_Modality\n",
              "\n",
              "[5 rows x 4 columns]"
            ]
          },
          "metadata": {
            "tags": []
          },
          "execution_count": 6
        }
      ]
    },
    {
      "cell_type": "code",
      "metadata": {
        "id": "g1M-O0nEGGAB",
        "colab_type": "code",
        "outputId": "171ed858-5499-48e4-d2aa-c0f22fb89153",
        "colab": {
          "base_uri": "https://localhost:8080/",
          "height": 196
        }
      },
      "source": [
        "df_train = df_train[df_train['label'] == 'C2_Plane']\n",
        "df_train.head()"
      ],
      "execution_count": 7,
      "outputs": [
        {
          "output_type": "execute_result",
          "data": {
            "text/html": [
              "<div>\n",
              "<style scoped>\n",
              "    .dataframe tbody tr th:only-of-type {\n",
              "        vertical-align: middle;\n",
              "    }\n",
              "\n",
              "    .dataframe tbody tr th {\n",
              "        vertical-align: top;\n",
              "    }\n",
              "\n",
              "    .dataframe thead th {\n",
              "        text-align: right;\n",
              "    }\n",
              "</style>\n",
              "<table border=\"1\" class=\"dataframe\">\n",
              "  <thead>\n",
              "    <tr style=\"text-align: right;\">\n",
              "      <th></th>\n",
              "      <th>id</th>\n",
              "      <th>question</th>\n",
              "      <th>answer</th>\n",
              "      <th>label</th>\n",
              "    </tr>\n",
              "  </thead>\n",
              "  <tbody>\n",
              "    <tr>\n",
              "      <th>3200</th>\n",
              "      <td>synpic41148</td>\n",
              "      <td>which plane is this image taken?</td>\n",
              "      <td>axial</td>\n",
              "      <td>C2_Plane</td>\n",
              "    </tr>\n",
              "    <tr>\n",
              "      <th>3201</th>\n",
              "      <td>synpic43984</td>\n",
              "      <td>which plane is this image taken?</td>\n",
              "      <td>axial</td>\n",
              "      <td>C2_Plane</td>\n",
              "    </tr>\n",
              "    <tr>\n",
              "      <th>3202</th>\n",
              "      <td>synpic38930</td>\n",
              "      <td>what plane is this ultrasound in?</td>\n",
              "      <td>longitudinal</td>\n",
              "      <td>C2_Plane</td>\n",
              "    </tr>\n",
              "    <tr>\n",
              "      <th>3203</th>\n",
              "      <td>synpic52143</td>\n",
              "      <td>which plane is the image shown in?</td>\n",
              "      <td>coronal</td>\n",
              "      <td>C2_Plane</td>\n",
              "    </tr>\n",
              "    <tr>\n",
              "      <th>3204</th>\n",
              "      <td>synpic20934</td>\n",
              "      <td>in what plane is this x-ray?</td>\n",
              "      <td>lateral</td>\n",
              "      <td>C2_Plane</td>\n",
              "    </tr>\n",
              "  </tbody>\n",
              "</table>\n",
              "</div>"
            ],
            "text/plain": [
              "               id                            question        answer     label\n",
              "3200  synpic41148    which plane is this image taken?         axial  C2_Plane\n",
              "3201  synpic43984    which plane is this image taken?         axial  C2_Plane\n",
              "3202  synpic38930   what plane is this ultrasound in?  longitudinal  C2_Plane\n",
              "3203  synpic52143  which plane is the image shown in?       coronal  C2_Plane\n",
              "3204  synpic20934        in what plane is this x-ray?       lateral  C2_Plane"
            ]
          },
          "metadata": {
            "tags": []
          },
          "execution_count": 7
        }
      ]
    },
    {
      "cell_type": "code",
      "metadata": {
        "id": "uShzk4Bybfpv",
        "colab_type": "code",
        "outputId": "f54281f4-8504-4b27-f817-985a70039470",
        "colab": {
          "base_uri": "https://localhost:8080/",
          "height": 196
        }
      },
      "source": [
        "df_valid = df_valid[df_valid['label'] == 'C2_Plane']\n",
        "df_valid.head()"
      ],
      "execution_count": 8,
      "outputs": [
        {
          "output_type": "execute_result",
          "data": {
            "text/html": [
              "<div>\n",
              "<style scoped>\n",
              "    .dataframe tbody tr th:only-of-type {\n",
              "        vertical-align: middle;\n",
              "    }\n",
              "\n",
              "    .dataframe tbody tr th {\n",
              "        vertical-align: top;\n",
              "    }\n",
              "\n",
              "    .dataframe thead th {\n",
              "        text-align: right;\n",
              "    }\n",
              "</style>\n",
              "<table border=\"1\" class=\"dataframe\">\n",
              "  <thead>\n",
              "    <tr style=\"text-align: right;\">\n",
              "      <th></th>\n",
              "      <th>id</th>\n",
              "      <th>question</th>\n",
              "      <th>answer</th>\n",
              "      <th>label</th>\n",
              "    </tr>\n",
              "  </thead>\n",
              "  <tbody>\n",
              "    <tr>\n",
              "      <th>500</th>\n",
              "      <td>synpic54733</td>\n",
              "      <td>in what plane is this image oriented?</td>\n",
              "      <td>axial</td>\n",
              "      <td>C2_Plane</td>\n",
              "    </tr>\n",
              "    <tr>\n",
              "      <th>501</th>\n",
              "      <td>synpic25647</td>\n",
              "      <td>what plane is this x-ray in?</td>\n",
              "      <td>ap</td>\n",
              "      <td>C2_Plane</td>\n",
              "    </tr>\n",
              "    <tr>\n",
              "      <th>502</th>\n",
              "      <td>synpic35681</td>\n",
              "      <td>what plane is demonstrated?</td>\n",
              "      <td>coronal</td>\n",
              "      <td>C2_Plane</td>\n",
              "    </tr>\n",
              "    <tr>\n",
              "      <th>503</th>\n",
              "      <td>synpic39641</td>\n",
              "      <td>in what plane was this image taken?</td>\n",
              "      <td>axial</td>\n",
              "      <td>C2_Plane</td>\n",
              "    </tr>\n",
              "    <tr>\n",
              "      <th>504</th>\n",
              "      <td>synpic35693</td>\n",
              "      <td>in what plane is this mri taken?</td>\n",
              "      <td>sagittal</td>\n",
              "      <td>C2_Plane</td>\n",
              "    </tr>\n",
              "  </tbody>\n",
              "</table>\n",
              "</div>"
            ],
            "text/plain": [
              "              id                               question    answer     label\n",
              "500  synpic54733  in what plane is this image oriented?     axial  C2_Plane\n",
              "501  synpic25647           what plane is this x-ray in?        ap  C2_Plane\n",
              "502  synpic35681            what plane is demonstrated?   coronal  C2_Plane\n",
              "503  synpic39641    in what plane was this image taken?     axial  C2_Plane\n",
              "504  synpic35693       in what plane is this mri taken?  sagittal  C2_Plane"
            ]
          },
          "metadata": {
            "tags": []
          },
          "execution_count": 8
        }
      ]
    },
    {
      "cell_type": "code",
      "metadata": {
        "id": "PBccnuSmMwFs",
        "colab_type": "code",
        "outputId": "814bcd39-1d80-48e3-b543-e243f8120f1f",
        "colab": {
          "base_uri": "https://localhost:8080/",
          "height": 196
        }
      },
      "source": [
        "labelencoder_train = LabelEncoder()\n",
        "df_train['plane_type'] = labelencoder_train.fit_transform(df_train['answer'])\n",
        "df_train.head()"
      ],
      "execution_count": 9,
      "outputs": [
        {
          "output_type": "execute_result",
          "data": {
            "text/html": [
              "<div>\n",
              "<style scoped>\n",
              "    .dataframe tbody tr th:only-of-type {\n",
              "        vertical-align: middle;\n",
              "    }\n",
              "\n",
              "    .dataframe tbody tr th {\n",
              "        vertical-align: top;\n",
              "    }\n",
              "\n",
              "    .dataframe thead th {\n",
              "        text-align: right;\n",
              "    }\n",
              "</style>\n",
              "<table border=\"1\" class=\"dataframe\">\n",
              "  <thead>\n",
              "    <tr style=\"text-align: right;\">\n",
              "      <th></th>\n",
              "      <th>id</th>\n",
              "      <th>question</th>\n",
              "      <th>answer</th>\n",
              "      <th>label</th>\n",
              "      <th>plane_type</th>\n",
              "    </tr>\n",
              "  </thead>\n",
              "  <tbody>\n",
              "    <tr>\n",
              "      <th>3200</th>\n",
              "      <td>synpic41148</td>\n",
              "      <td>which plane is this image taken?</td>\n",
              "      <td>axial</td>\n",
              "      <td>C2_Plane</td>\n",
              "      <td>2</td>\n",
              "    </tr>\n",
              "    <tr>\n",
              "      <th>3201</th>\n",
              "      <td>synpic43984</td>\n",
              "      <td>which plane is this image taken?</td>\n",
              "      <td>axial</td>\n",
              "      <td>C2_Plane</td>\n",
              "      <td>2</td>\n",
              "    </tr>\n",
              "    <tr>\n",
              "      <th>3202</th>\n",
              "      <td>synpic38930</td>\n",
              "      <td>what plane is this ultrasound in?</td>\n",
              "      <td>longitudinal</td>\n",
              "      <td>C2_Plane</td>\n",
              "      <td>7</td>\n",
              "    </tr>\n",
              "    <tr>\n",
              "      <th>3203</th>\n",
              "      <td>synpic52143</td>\n",
              "      <td>which plane is the image shown in?</td>\n",
              "      <td>coronal</td>\n",
              "      <td>C2_Plane</td>\n",
              "      <td>3</td>\n",
              "    </tr>\n",
              "    <tr>\n",
              "      <th>3204</th>\n",
              "      <td>synpic20934</td>\n",
              "      <td>in what plane is this x-ray?</td>\n",
              "      <td>lateral</td>\n",
              "      <td>C2_Plane</td>\n",
              "      <td>6</td>\n",
              "    </tr>\n",
              "  </tbody>\n",
              "</table>\n",
              "</div>"
            ],
            "text/plain": [
              "               id                            question  ...     label plane_type\n",
              "3200  synpic41148    which plane is this image taken?  ...  C2_Plane          2\n",
              "3201  synpic43984    which plane is this image taken?  ...  C2_Plane          2\n",
              "3202  synpic38930   what plane is this ultrasound in?  ...  C2_Plane          7\n",
              "3203  synpic52143  which plane is the image shown in?  ...  C2_Plane          3\n",
              "3204  synpic20934        in what plane is this x-ray?  ...  C2_Plane          6\n",
              "\n",
              "[5 rows x 5 columns]"
            ]
          },
          "metadata": {
            "tags": []
          },
          "execution_count": 9
        }
      ]
    },
    {
      "cell_type": "code",
      "metadata": {
        "id": "wU1yXEFqw67l",
        "colab_type": "code",
        "colab": {
          "base_uri": "https://localhost:8080/",
          "height": 268
        },
        "outputId": "0d230b62-1165-459b-f838-0f5613c3633f"
      },
      "source": [
        "integer_mapping = {l: i for i, l in enumerate(labelencoder_train.classes_)}\n",
        "integer_mapping"
      ],
      "execution_count": 10,
      "outputs": [
        {
          "output_type": "execute_result",
          "data": {
            "text/plain": [
              "{'3d reconstruction': 0,\n",
              " 'ap': 1,\n",
              " 'axial': 2,\n",
              " 'coronal': 3,\n",
              " 'decubitus': 4,\n",
              " 'frontal': 5,\n",
              " 'lateral': 6,\n",
              " 'longitudinal': 7,\n",
              " 'mammo - cc': 8,\n",
              " 'mammo - mag cc': 9,\n",
              " 'mammo - mlo': 10,\n",
              " 'oblique': 11,\n",
              " 'pa': 12,\n",
              " 'sagittal': 13,\n",
              " 'transverse': 14}"
            ]
          },
          "metadata": {
            "tags": []
          },
          "execution_count": 10
        }
      ]
    },
    {
      "cell_type": "code",
      "metadata": {
        "id": "b2sSQKp1b3At",
        "colab_type": "code",
        "outputId": "410ce82b-608a-4c39-9954-e57cb358bd3f",
        "colab": {
          "base_uri": "https://localhost:8080/",
          "height": 196
        }
      },
      "source": [
        "labelencoder_valid = LabelEncoder()\n",
        "df_valid['plane_type'] = labelencoder_valid.fit_transform(df_valid['answer'])\n",
        "df_valid.head()"
      ],
      "execution_count": 11,
      "outputs": [
        {
          "output_type": "execute_result",
          "data": {
            "text/html": [
              "<div>\n",
              "<style scoped>\n",
              "    .dataframe tbody tr th:only-of-type {\n",
              "        vertical-align: middle;\n",
              "    }\n",
              "\n",
              "    .dataframe tbody tr th {\n",
              "        vertical-align: top;\n",
              "    }\n",
              "\n",
              "    .dataframe thead th {\n",
              "        text-align: right;\n",
              "    }\n",
              "</style>\n",
              "<table border=\"1\" class=\"dataframe\">\n",
              "  <thead>\n",
              "    <tr style=\"text-align: right;\">\n",
              "      <th></th>\n",
              "      <th>id</th>\n",
              "      <th>question</th>\n",
              "      <th>answer</th>\n",
              "      <th>label</th>\n",
              "      <th>plane_type</th>\n",
              "    </tr>\n",
              "  </thead>\n",
              "  <tbody>\n",
              "    <tr>\n",
              "      <th>500</th>\n",
              "      <td>synpic54733</td>\n",
              "      <td>in what plane is this image oriented?</td>\n",
              "      <td>axial</td>\n",
              "      <td>C2_Plane</td>\n",
              "      <td>2</td>\n",
              "    </tr>\n",
              "    <tr>\n",
              "      <th>501</th>\n",
              "      <td>synpic25647</td>\n",
              "      <td>what plane is this x-ray in?</td>\n",
              "      <td>ap</td>\n",
              "      <td>C2_Plane</td>\n",
              "      <td>1</td>\n",
              "    </tr>\n",
              "    <tr>\n",
              "      <th>502</th>\n",
              "      <td>synpic35681</td>\n",
              "      <td>what plane is demonstrated?</td>\n",
              "      <td>coronal</td>\n",
              "      <td>C2_Plane</td>\n",
              "      <td>3</td>\n",
              "    </tr>\n",
              "    <tr>\n",
              "      <th>503</th>\n",
              "      <td>synpic39641</td>\n",
              "      <td>in what plane was this image taken?</td>\n",
              "      <td>axial</td>\n",
              "      <td>C2_Plane</td>\n",
              "      <td>2</td>\n",
              "    </tr>\n",
              "    <tr>\n",
              "      <th>504</th>\n",
              "      <td>synpic35693</td>\n",
              "      <td>in what plane is this mri taken?</td>\n",
              "      <td>sagittal</td>\n",
              "      <td>C2_Plane</td>\n",
              "      <td>13</td>\n",
              "    </tr>\n",
              "  </tbody>\n",
              "</table>\n",
              "</div>"
            ],
            "text/plain": [
              "              id                               question  ...     label plane_type\n",
              "500  synpic54733  in what plane is this image oriented?  ...  C2_Plane          2\n",
              "501  synpic25647           what plane is this x-ray in?  ...  C2_Plane          1\n",
              "502  synpic35681            what plane is demonstrated?  ...  C2_Plane          3\n",
              "503  synpic39641    in what plane was this image taken?  ...  C2_Plane          2\n",
              "504  synpic35693       in what plane is this mri taken?  ...  C2_Plane         13\n",
              "\n",
              "[5 rows x 5 columns]"
            ]
          },
          "metadata": {
            "tags": []
          },
          "execution_count": 11
        }
      ]
    },
    {
      "cell_type": "code",
      "metadata": {
        "id": "u9HBH1b-OCXb",
        "colab_type": "code",
        "outputId": "c20cceae-44f7-43e7-a893-a9f0df659059",
        "colab": {
          "base_uri": "https://localhost:8080/",
          "height": 268
        }
      },
      "source": [
        "integer_mapping = {l: i for i, l in enumerate(labelencoder_valid.classes_)}\n",
        "integer_mapping"
      ],
      "execution_count": 12,
      "outputs": [
        {
          "output_type": "execute_result",
          "data": {
            "text/plain": [
              "{'3d reconstruction': 0,\n",
              " 'ap': 1,\n",
              " 'axial': 2,\n",
              " 'coronal': 3,\n",
              " 'frontal': 4,\n",
              " 'lateral': 5,\n",
              " 'longitudinal': 6,\n",
              " 'mammo - cc': 7,\n",
              " 'mammo - mag cc': 8,\n",
              " 'mammo - mlo': 9,\n",
              " 'mammo - xcc': 10,\n",
              " 'oblique': 11,\n",
              " 'pa': 12,\n",
              " 'sagittal': 13,\n",
              " 'transverse': 14}"
            ]
          },
          "metadata": {
            "tags": []
          },
          "execution_count": 12
        }
      ]
    },
    {
      "cell_type": "code",
      "metadata": {
        "id": "JZvfy-4uOM18",
        "colab_type": "code",
        "colab": {}
      },
      "source": [
        "class PlaneDataSet(Dataset):\n",
        "    def __init__(self, image_names,plane_types, root_dir, transform=None):\n",
        "        self.image_names = image_names\n",
        "        self.plane_types = plane_types\n",
        "        self.root_dir = root_dir\n",
        "        self.transform = transform\n",
        "    \n",
        "    def __len__(self):\n",
        "        return len(self.image_names)\n",
        "    \n",
        "    def __getitem__(self, idx):\n",
        "        if torch.is_tensor(idx):\n",
        "            idx = idx.tolist()\n",
        "        img_name = '{}.jpg'.format(self.image_names[idx])\n",
        "        fullname = join(self.root_dir, img_name)\n",
        "        image = Image.open(fullname)\n",
        "        labels = self.plane_types[idx]\n",
        "        if self.transform:\n",
        "            image = self.transform(image)\n",
        "        return [image, labels]"
      ],
      "execution_count": 0,
      "outputs": []
    },
    {
      "cell_type": "code",
      "metadata": {
        "id": "Wy6mjJNMPfD1",
        "colab_type": "code",
        "colab": {}
      },
      "source": [
        "plane_trans = transforms.Compose([transforms.Resize(224),\n",
        "                               transforms.CenterCrop(224),\n",
        "                               transforms.ToTensor(),\n",
        "                               transforms.Normalize([0.485, 0.456, 0.406],\n",
        "                             [0.229, 0.224, 0.225])])\n",
        "\n",
        "\n",
        "train_ds = PlaneDataSet(df_train['id'].values,df_train['plane_type'].values, r'train/Train_images/', transform=plane_trans)\n",
        "train_dl = DataLoader(train_ds, batch_size=32, shuffle=True, num_workers=4)\n",
        "\n",
        "valid_ds = PlaneDataSet(df_valid['id'].values,df_valid['plane_type'].values, r'val/Val_images/', transform=plane_trans)\n",
        "valid_dl = DataLoader(valid_ds, batch_size=32, shuffle=True, num_workers=4)"
      ],
      "execution_count": 0,
      "outputs": []
    },
    {
      "cell_type": "code",
      "metadata": {
        "id": "AssAkhjL3BJc",
        "colab_type": "code",
        "colab": {}
      },
      "source": [
        "train_on_gpu = cuda.is_available()\n",
        "def get_pretrained_model(model_name):\n",
        "    \"\"\"Retrieve a pre-trained model from torchvision\n",
        "\n",
        "    Params\n",
        "    -------\n",
        "        model_name (str): name of the model (currently only accepts vgg16 and resnet50)\n",
        "\n",
        "    Return\n",
        "    --------\n",
        "        model (PyTorch model): cnn\n",
        "\n",
        "    \"\"\"\n",
        "\n",
        "    if model_name == 'vgg16':\n",
        "        model = models.vgg16(pretrained=True)\n",
        "\n",
        "        # Freeze early layers\n",
        "        for param in model.parameters():\n",
        "            param.requires_grad = False\n",
        "        n_inputs = model.classifier[6].in_features\n",
        "\n",
        "        # Add on classifier\n",
        "        model.classifier[6] = torch.nn.Sequential(\n",
        "            torch.nn.Linear(n_inputs, 256), torch.nn.ReLU(), torch.nn.Dropout(0.2),\n",
        "            torch.nn.Linear(256, 15), torch.nn.LogSoftmax(dim=1))\n",
        "\n",
        "    elif model_name == 'resnet50':\n",
        "        model = models.resnet50(pretrained=True)\n",
        "\n",
        "        for param in model.parameters():\n",
        "            param.requires_grad = False\n",
        "\n",
        "        n_inputs = model.fc.in_features\n",
        "        model.fc = torch.nn.Sequential(\n",
        "            torch.nn.Linear(n_inputs, 256), torch.nn.ReLU(), torch.nn.Dropout(0.2),\n",
        "            torch.nn.Linear(256, 15), torch.nn.LogSoftmax(dim=1))\n",
        "\n",
        "    # Move to gpu and parallelize\n",
        "    if train_on_gpu:\n",
        "        model = model.to('cuda')\n",
        "\n",
        "    return model"
      ],
      "execution_count": 0,
      "outputs": []
    },
    {
      "cell_type": "code",
      "metadata": {
        "id": "592ZjG2e8Wxg",
        "colab_type": "code",
        "colab": {}
      },
      "source": [
        "model = get_pretrained_model('vgg16')"
      ],
      "execution_count": 0,
      "outputs": []
    },
    {
      "cell_type": "code",
      "metadata": {
        "id": "eqZoccD88ndf",
        "colab_type": "code",
        "colab": {}
      },
      "source": [
        "criterion = torch.nn.NLLLoss()\n",
        "optimizer = optim.Adam(model.parameters())"
      ],
      "execution_count": 0,
      "outputs": []
    },
    {
      "cell_type": "code",
      "metadata": {
        "id": "upT93FFF9GpL",
        "colab_type": "code",
        "colab": {}
      },
      "source": [
        "def train(model,\n",
        "          criterion,\n",
        "          optimizer,\n",
        "          train_loader,\n",
        "          valid_loader,\n",
        "          save_file_name,\n",
        "          max_epochs_stop=3,\n",
        "          n_epochs=20):\n",
        "    \"\"\"Train a PyTorch Model\n",
        "\n",
        "    Params\n",
        "    --------\n",
        "        model (PyTorch model): cnn to train\n",
        "        criterion (PyTorch loss): objective to minimize\n",
        "        optimizer (PyTorch optimizier): optimizer to compute gradients of model parameters\n",
        "        train_loader (PyTorch dataloader): training dataloader to iterate through\n",
        "        valid_loader (PyTorch dataloader): validation dataloader used for early stopping\n",
        "        save_file_name (str ending in '.pt'): file path to save the model state dict\n",
        "        max_epochs_stop (int): maximum number of epochs with no improvement in validation loss for early stopping\n",
        "        n_epochs (int): maximum number of training epochs\n",
        "\n",
        "    Returns\n",
        "    --------\n",
        "        model (PyTorch model): trained cnn with best weights\n",
        "        history (DataFrame): history of train and validation loss and accuracy\n",
        "    \"\"\"\n",
        "\n",
        "    # Early stopping intialization\n",
        "    epochs_no_improve = 0\n",
        "    valid_loss_min = np.Inf\n",
        "\n",
        "    valid_max_acc = 0\n",
        "    history = []\n",
        "\n",
        "    # Number of epochs already trained (if using loaded in model weights)\n",
        "    try:\n",
        "        print(f'Model has been trained for: {model.epochs} epochs.\\n')\n",
        "    except:\n",
        "        model.epochs = 0\n",
        "        print(f'Starting Training from Scratch.\\n')\n",
        "\n",
        "    overall_start = timer()\n",
        "\n",
        "    # Main loop\n",
        "    for epoch in range(n_epochs):\n",
        "\n",
        "        # keep track of training and validation loss each epoch\n",
        "        train_loss = 0.0\n",
        "        valid_loss = 0.0\n",
        "\n",
        "        train_acc = 0\n",
        "        valid_acc = 0\n",
        "\n",
        "        # Set to training\n",
        "        model.train()\n",
        "        start = timer()\n",
        "\n",
        "        # Training loop\n",
        "        for ii, (data, target) in enumerate(train_loader):\n",
        "            # Tensors to gpu\n",
        "            if train_on_gpu:\n",
        "                data, target = data.cuda(), target.cuda()\n",
        "\n",
        "            # Clear gradients\n",
        "            optimizer.zero_grad()\n",
        "            # Predicted outputs are log probabilities\n",
        "            output = model(data)\n",
        "\n",
        "            # Loss and backpropagation of gradients\n",
        "            loss = criterion(output, target)\n",
        "            loss.backward()\n",
        "\n",
        "            # Update the parameters\n",
        "            optimizer.step()\n",
        "\n",
        "            # Track train loss by multiplying average loss by number of examples in batch\n",
        "            train_loss += loss.item() * data.size(0)\n",
        "\n",
        "            # Calculate accuracy by finding max log probability\n",
        "            _, pred = torch.max(output, dim=1)\n",
        "            correct_tensor = pred.eq(target.data.view_as(pred))\n",
        "            # Need to convert correct tensor from int to float to average\n",
        "            accuracy = torch.mean(correct_tensor.type(torch.FloatTensor))\n",
        "            # Multiply average accuracy times the number of examples in batch\n",
        "            train_acc += accuracy.item() * data.size(0)\n",
        "\n",
        "            # Track training progress\n",
        "            print(\n",
        "                f'Epoch: {epoch}\\t{100 * (ii + 1) / len(train_loader):.2f}% complete. {timer() - start:.2f} seconds elapsed in epoch.',\n",
        "                end='\\r')\n",
        "\n",
        "        # After training loops ends, start validation\n",
        "        else:\n",
        "            model.epochs += 1\n",
        "\n",
        "            # Don't need to keep track of gradients\n",
        "            with torch.no_grad():\n",
        "                # Set to evaluation mode\n",
        "                model.eval()\n",
        "\n",
        "                # Validation loop\n",
        "                for data, target in valid_loader:\n",
        "                    # Tensors to gpu\n",
        "                    if train_on_gpu:\n",
        "                        data, target = data.cuda(), target.cuda()\n",
        "\n",
        "                    # Forward pass\n",
        "                    output = model(data)\n",
        "\n",
        "                    # Validation loss\n",
        "                    loss = criterion(output, target)\n",
        "                    # Multiply average loss times the number of examples in batch\n",
        "                    valid_loss += loss.item() * data.size(0)\n",
        "\n",
        "                    # Calculate validation accuracy\n",
        "                    _, pred = torch.max(output, dim=1)\n",
        "                    correct_tensor = pred.eq(target.data.view_as(pred))\n",
        "                    accuracy = torch.mean(\n",
        "                        correct_tensor.type(torch.FloatTensor))\n",
        "                    # Multiply average accuracy times the number of examples\n",
        "                    valid_acc += accuracy.item() * data.size(0)\n",
        "\n",
        "                # Calculate average losses\n",
        "                train_loss = train_loss / len(train_loader.dataset)\n",
        "                valid_loss = valid_loss / len(valid_loader.dataset)\n",
        "\n",
        "                # Calculate average accuracy\n",
        "                train_acc = train_acc / len(train_loader.dataset)\n",
        "                valid_acc = valid_acc / len(valid_loader.dataset)\n",
        "\n",
        "                history.append([train_loss, valid_loss, train_acc, valid_acc])\n",
        "\n",
        "                print(\n",
        "                        f'\\nEpoch: {epoch} \\tTraining Loss: {train_loss:.4f} \\tValidation Loss: {valid_loss:.4f}'\n",
        "                    )\n",
        "                print(\n",
        "                        f'\\t\\tTraining Accuracy: {100 * train_acc:.2f}%\\t Validation Accuracy: {100 * valid_acc:.2f}%'\n",
        "                    )\n",
        "\n",
        "                # Save the model if validation loss decreases\n",
        "                if valid_loss < valid_loss_min:\n",
        "                    # Save model\n",
        "                    torch.save(model.state_dict(), save_file_name)\n",
        "                    # Track improvement\n",
        "                    epochs_no_improve = 0\n",
        "                    valid_loss_min = valid_loss\n",
        "                    valid_best_acc = valid_acc\n",
        "                    best_epoch = epoch\n",
        "\n",
        "                # Otherwise increment count of epochs with no improvement\n",
        "                else:\n",
        "                    epochs_no_improve += 1\n",
        "                    # Trigger early stopping\n",
        "                    if epochs_no_improve >= max_epochs_stop:\n",
        "                        print(\n",
        "                            f'\\nEarly Stopping! Total epochs: {epoch}. Best epoch: {best_epoch} with loss: {valid_loss_min:.2f} and acc: {100 * valid_acc:.2f}%'\n",
        "                        )\n",
        "                        total_time = timer() - overall_start\n",
        "                        print(\n",
        "                            f'{total_time:.2f} total seconds elapsed. {total_time / (epoch+1):.2f} seconds per epoch.'\n",
        "                        )\n",
        "\n",
        "                        # Load the best state dict\n",
        "                        model.load_state_dict(torch.load(save_file_name))\n",
        "                        # Attach the optimizer\n",
        "                        model.optimizer = optimizer\n",
        "\n",
        "                        # Format history\n",
        "                        history = pd.DataFrame(\n",
        "                            history,\n",
        "                            columns=[\n",
        "                                'train_loss', 'valid_loss', 'train_acc',\n",
        "                                'valid_acc'\n",
        "                            ])\n",
        "                        return model, history\n",
        "\n",
        "    # Attach the optimizer\n",
        "    model.optimizer = optimizer\n",
        "    # Record overall time and print out stats\n",
        "    total_time = timer() - overall_start\n",
        "    print(\n",
        "        f'\\nBest epoch: {best_epoch} with loss: {valid_loss_min:.2f} and acc: {100 * valid_acc:.2f}%'\n",
        "    )\n",
        "    print(\n",
        "        f'{total_time:.2f} total seconds elapsed. {total_time / (epoch):.2f} seconds per epoch.'\n",
        "    )\n",
        "    # Format history\n",
        "    history = pd.DataFrame(\n",
        "        history,\n",
        "        columns=['train_loss', 'valid_loss', 'train_acc', 'valid_acc'])\n",
        "    return model, history"
      ],
      "execution_count": 0,
      "outputs": []
    },
    {
      "cell_type": "code",
      "metadata": {
        "id": "6WCgQ9u49eaM",
        "colab_type": "code",
        "outputId": "46c83644-9e9e-46a7-8a06-230f43507f42",
        "colab": {
          "base_uri": "https://localhost:8080/",
          "height": 1000
        }
      },
      "source": [
        "  model, history = train(\n",
        "    model,\n",
        "    criterion,\n",
        "    optimizer,\n",
        "    train_dl,\n",
        "    valid_dl,\n",
        "    save_file_name=\"plane-vgg.pt\",\n",
        "    max_epochs_stop=30,\n",
        "    n_epochs=30)"
      ],
      "execution_count": 19,
      "outputs": [
        {
          "output_type": "stream",
          "text": [
            "Starting Training from Scratch.\n",
            "\n",
            "\n",
            "Epoch: 0 \tTraining Loss: 1.1050 \tValidation Loss: 1.2030\n",
            "\t\tTraining Accuracy: 63.56%\t Validation Accuracy: 63.40%\n",
            "\n",
            "Epoch: 1 \tTraining Loss: 0.8190 \tValidation Loss: 1.2003\n",
            "\t\tTraining Accuracy: 73.09%\t Validation Accuracy: 66.20%\n",
            "\n",
            "Epoch: 2 \tTraining Loss: 0.7549 \tValidation Loss: 1.2321\n",
            "\t\tTraining Accuracy: 74.47%\t Validation Accuracy: 67.40%\n",
            "\n",
            "Epoch: 3 \tTraining Loss: 0.6854 \tValidation Loss: 1.2520\n",
            "\t\tTraining Accuracy: 76.12%\t Validation Accuracy: 66.40%\n",
            "\n",
            "Epoch: 4 \tTraining Loss: 0.6454 \tValidation Loss: 1.1856\n",
            "\t\tTraining Accuracy: 76.84%\t Validation Accuracy: 68.60%\n",
            "\n",
            "Epoch: 5 \tTraining Loss: 0.5859 \tValidation Loss: 1.2705\n",
            "\t\tTraining Accuracy: 80.41%\t Validation Accuracy: 67.20%\n",
            "\n",
            "Epoch: 6 \tTraining Loss: 0.5602 \tValidation Loss: 1.2214\n",
            "\t\tTraining Accuracy: 80.81%\t Validation Accuracy: 66.80%\n",
            "\n",
            "Epoch: 7 \tTraining Loss: 0.5124 \tValidation Loss: 1.2714\n",
            "\t\tTraining Accuracy: 81.84%\t Validation Accuracy: 69.20%\n",
            "\n",
            "Epoch: 8 \tTraining Loss: 0.4891 \tValidation Loss: 1.3119\n",
            "\t\tTraining Accuracy: 81.81%\t Validation Accuracy: 67.60%\n",
            "\n",
            "Epoch: 9 \tTraining Loss: 0.4594 \tValidation Loss: 1.3476\n",
            "\t\tTraining Accuracy: 83.47%\t Validation Accuracy: 67.80%\n",
            "\n",
            "Epoch: 10 \tTraining Loss: 0.4328 \tValidation Loss: 1.3384\n",
            "\t\tTraining Accuracy: 84.44%\t Validation Accuracy: 68.00%\n",
            "\n",
            "Epoch: 11 \tTraining Loss: 0.4155 \tValidation Loss: 1.3990\n",
            "\t\tTraining Accuracy: 85.00%\t Validation Accuracy: 69.80%\n",
            "\n",
            "Epoch: 12 \tTraining Loss: 0.3852 \tValidation Loss: 1.4081\n",
            "\t\tTraining Accuracy: 86.38%\t Validation Accuracy: 67.80%\n",
            "\n",
            "Epoch: 13 \tTraining Loss: 0.3669 \tValidation Loss: 1.4204\n",
            "\t\tTraining Accuracy: 86.91%\t Validation Accuracy: 67.40%\n",
            "\n",
            "Epoch: 14 \tTraining Loss: 0.3323 \tValidation Loss: 1.5738\n",
            "\t\tTraining Accuracy: 88.19%\t Validation Accuracy: 67.40%\n",
            "\n",
            "Epoch: 15 \tTraining Loss: 0.3173 \tValidation Loss: 1.5435\n",
            "\t\tTraining Accuracy: 88.38%\t Validation Accuracy: 66.80%\n",
            "\n",
            "Epoch: 16 \tTraining Loss: 0.3283 \tValidation Loss: 1.6190\n",
            "\t\tTraining Accuracy: 88.28%\t Validation Accuracy: 67.40%\n",
            "\n",
            "Epoch: 17 \tTraining Loss: 0.2954 \tValidation Loss: 1.6491\n",
            "\t\tTraining Accuracy: 89.41%\t Validation Accuracy: 68.00%\n",
            "\n",
            "Epoch: 18 \tTraining Loss: 0.2781 \tValidation Loss: 1.6527\n",
            "\t\tTraining Accuracy: 89.91%\t Validation Accuracy: 68.00%\n",
            "\n",
            "Epoch: 19 \tTraining Loss: 0.2688 \tValidation Loss: 1.7403\n",
            "\t\tTraining Accuracy: 90.62%\t Validation Accuracy: 66.60%\n",
            "\n",
            "Epoch: 20 \tTraining Loss: 0.2634 \tValidation Loss: 1.6783\n",
            "\t\tTraining Accuracy: 89.97%\t Validation Accuracy: 68.40%\n",
            "\n",
            "Epoch: 21 \tTraining Loss: 0.2494 \tValidation Loss: 1.7064\n",
            "\t\tTraining Accuracy: 90.41%\t Validation Accuracy: 67.80%\n",
            "\n",
            "Epoch: 22 \tTraining Loss: 0.2420 \tValidation Loss: 1.8291\n",
            "\t\tTraining Accuracy: 91.53%\t Validation Accuracy: 67.60%\n",
            "\n",
            "Epoch: 23 \tTraining Loss: 0.2453 \tValidation Loss: 1.7825\n",
            "\t\tTraining Accuracy: 91.91%\t Validation Accuracy: 68.00%\n",
            "\n",
            "Epoch: 24 \tTraining Loss: 0.2306 \tValidation Loss: 1.8028\n",
            "\t\tTraining Accuracy: 91.94%\t Validation Accuracy: 68.80%\n",
            "\n",
            "Epoch: 25 \tTraining Loss: 0.2168 \tValidation Loss: 1.8480\n",
            "\t\tTraining Accuracy: 92.53%\t Validation Accuracy: 67.80%\n",
            "\n",
            "Epoch: 26 \tTraining Loss: 0.2251 \tValidation Loss: 1.8915\n",
            "\t\tTraining Accuracy: 92.00%\t Validation Accuracy: 66.20%\n",
            "\n",
            "Epoch: 27 \tTraining Loss: 0.2247 \tValidation Loss: 1.8282\n",
            "\t\tTraining Accuracy: 92.25%\t Validation Accuracy: 68.00%\n",
            "\n",
            "Epoch: 28 \tTraining Loss: 0.1982 \tValidation Loss: 1.9163\n",
            "\t\tTraining Accuracy: 93.34%\t Validation Accuracy: 66.20%\n",
            "\n",
            "Epoch: 29 \tTraining Loss: 0.2013 \tValidation Loss: 1.9928\n",
            "\t\tTraining Accuracy: 92.94%\t Validation Accuracy: 66.20%\n",
            "\n",
            "Best epoch: 4 with loss: 1.19 and acc: 66.20%\n",
            "1140.45 total seconds elapsed. 39.33 seconds per epoch.\n"
          ],
          "name": "stdout"
        }
      ]
    },
    {
      "cell_type": "code",
      "metadata": {
        "id": "ggYHI3BrMTzz",
        "colab_type": "code",
        "outputId": "448d205c-f095-4265-b206-10757f5aab92",
        "colab": {
          "base_uri": "https://localhost:8080/",
          "height": 421
        }
      },
      "source": [
        "plt.figure(figsize=(8, 6))\n",
        "for c in ['train_loss', 'valid_loss']:\n",
        "    plt.plot(\n",
        "        history[c], label=c)\n",
        "plt.legend()\n",
        "plt.xlabel('Epoch')\n",
        "plt.ylabel('Average Negative Log Likelihood')\n",
        "plt.title('Training and Validation Losses')"
      ],
      "execution_count": 20,
      "outputs": [
        {
          "output_type": "execute_result",
          "data": {
            "text/plain": [
              "Text(0.5, 1.0, 'Training and Validation Losses')"
            ]
          },
          "metadata": {
            "tags": []
          },
          "execution_count": 20
        },
        {
          "output_type": "display_data",
          "data": {
            "image/png": "[encoded data removed]",
            "text/plain": [
              "<Figure size 576x432 with 1 Axes>"
            ]
          },
          "metadata": {
            "tags": [],
            "needs_background": "light"
          }
        }
      ]
    },
    {
      "cell_type": "code",
      "metadata": {
        "id": "f9MrylGkMXkv",
        "colab_type": "code",
        "outputId": "784cd15c-a9d0-4688-a3cf-3ebef93d00a2",
        "colab": {
          "base_uri": "https://localhost:8080/",
          "height": 421
        }
      },
      "source": [
        "plt.figure(figsize=(8, 6))\n",
        "for c in ['train_acc', 'valid_acc']:\n",
        "    plt.plot(\n",
        "        100 * history[c], label=c)\n",
        "plt.legend()\n",
        "plt.xlabel('Epoch')\n",
        "plt.ylabel('Average Accuracy')\n",
        "plt.title('Training and Validation Accuracy')"
      ],
      "execution_count": 21,
      "outputs": [
        {
          "output_type": "execute_result",
          "data": {
            "text/plain": [
              "Text(0.5, 1.0, 'Training and Validation Accuracy')"
            ]
          },
          "metadata": {
            "tags": []
          },
          "execution_count": 21
        },
        {
          "output_type": "display_data",
          "data": {
            "image/png": "[encoded data removed]",
            "text/plain": [
              "<Figure size 576x432 with 1 Axes>"
            ]
          },
          "metadata": {
            "tags": [],
            "needs_background": "light"
          }
        }
      ]
    },
    {
      "cell_type": "code",
      "metadata": {
        "id": "Z2xDauxnVuPr",
        "colab_type": "code",
        "colab": {}
      },
      "source": [
        "torch.save(model.state_dict(), 'plane-vgg16.pt')"
      ],
      "execution_count": 0,
      "outputs": []
    }
  ]
}