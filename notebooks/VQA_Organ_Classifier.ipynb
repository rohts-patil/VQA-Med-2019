{
  "nbformat": 4,
  "nbformat_minor": 0,
  "metadata": {
    "colab": {
      "name": "VQA Organ Classifier.ipynb",
      "provenance": [],
      "collapsed_sections": [],
      "authorship_tag": "ABX9TyPlFNs6RNLAxffR4noKM2Ab",
      "include_colab_link": true
    },
    "kernelspec": {
      "name": "python3",
      "display_name": "Python 3"
    },
    "accelerator": "GPU",
    "widgets": {
      "application/vnd.jupyter.widget-state+json": {
        "62332e89e0094d2eb15c4d7060b09342": {
          "model_module": "@jupyter-widgets/controls",
          "model_name": "HBoxModel",
          "state": {
            "_view_name": "HBoxView",
            "_dom_classes": [],
            "_model_name": "HBoxModel",
            "_view_module": "@jupyter-widgets/controls",
            "_model_module_version": "1.5.0",
            "_view_count": null,
            "_view_module_version": "1.5.0",
            "box_style": "",
            "layout": "IPY_MODEL_615dfe275988439f8c3d2a59e9ff4e0d",
            "_model_module": "@jupyter-widgets/controls",
            "children": [
              "IPY_MODEL_59e493906fb14fa8be034e7809685fdf",
              "IPY_MODEL_538d0d0aa2d04ac797b26cbf05b15626"
            ]
          }
        },
        "615dfe275988439f8c3d2a59e9ff4e0d": {
          "model_module": "@jupyter-widgets/base",
          "model_name": "LayoutModel",
          "state": {
            "_view_name": "LayoutView",
            "grid_template_rows": null,
            "right": null,
            "justify_content": null,
            "_view_module": "@jupyter-widgets/base",
            "overflow": null,
            "_model_module_version": "1.2.0",
            "_view_count": null,
            "flex_flow": null,
            "width": null,
            "min_width": null,
            "border": null,
            "align_items": null,
            "bottom": null,
            "_model_module": "@jupyter-widgets/base",
            "top": null,
            "grid_column": null,
            "overflow_y": null,
            "overflow_x": null,
            "grid_auto_flow": null,
            "grid_area": null,
            "grid_template_columns": null,
            "flex": null,
            "_model_name": "LayoutModel",
            "justify_items": null,
            "grid_row": null,
            "max_height": null,
            "align_content": null,
            "visibility": null,
            "align_self": null,
            "height": null,
            "min_height": null,
            "padding": null,
            "grid_auto_rows": null,
            "grid_gap": null,
            "max_width": null,
            "order": null,
            "_view_module_version": "1.2.0",
            "grid_template_areas": null,
            "object_position": null,
            "object_fit": null,
            "grid_auto_columns": null,
            "margin": null,
            "display": null,
            "left": null
          }
        },
        "59e493906fb14fa8be034e7809685fdf": {
          "model_module": "@jupyter-widgets/controls",
          "model_name": "FloatProgressModel",
          "state": {
            "_view_name": "ProgressView",
            "style": "IPY_MODEL_21ca0cb89d4e4e46a45aa4f849583fb0",
            "_dom_classes": [],
            "description": "100%",
            "_model_name": "FloatProgressModel",
            "bar_style": "success",
            "max": 553433881,
            "_view_module": "@jupyter-widgets/controls",
            "_model_module_version": "1.5.0",
            "value": 553433881,
            "_view_count": null,
            "_view_module_version": "1.5.0",
            "orientation": "horizontal",
            "min": 0,
            "description_tooltip": null,
            "_model_module": "@jupyter-widgets/controls",
            "layout": "IPY_MODEL_f1b9f4c07a3847a9aa8a3de5e6970b27"
          }
        },
        "538d0d0aa2d04ac797b26cbf05b15626": {
          "model_module": "@jupyter-widgets/controls",
          "model_name": "HTMLModel",
          "state": {
            "_view_name": "HTMLView",
            "style": "IPY_MODEL_5811bb63ff2f44b4b0726b288d5a38d5",
            "_dom_classes": [],
            "description": "",
            "_model_name": "HTMLModel",
            "placeholder": "​",
            "_view_module": "@jupyter-widgets/controls",
            "_model_module_version": "1.5.0",
            "value": " 528M/528M [05:37&lt;00:00, 1.64MB/s]",
            "_view_count": null,
            "_view_module_version": "1.5.0",
            "description_tooltip": null,
            "_model_module": "@jupyter-widgets/controls",
            "layout": "IPY_MODEL_02d4602cee694c6794aead87e495e5c4"
          }
        },
        "21ca0cb89d4e4e46a45aa4f849583fb0": {
          "model_module": "@jupyter-widgets/controls",
          "model_name": "ProgressStyleModel",
          "state": {
            "_view_name": "StyleView",
            "_model_name": "ProgressStyleModel",
            "description_width": "initial",
            "_view_module": "@jupyter-widgets/base",
            "_model_module_version": "1.5.0",
            "_view_count": null,
            "_view_module_version": "1.2.0",
            "bar_color": null,
            "_model_module": "@jupyter-widgets/controls"
          }
        },
        "f1b9f4c07a3847a9aa8a3de5e6970b27": {
          "model_module": "@jupyter-widgets/base",
          "model_name": "LayoutModel",
          "state": {
            "_view_name": "LayoutView",
            "grid_template_rows": null,
            "right": null,
            "justify_content": null,
            "_view_module": "@jupyter-widgets/base",
            "overflow": null,
            "_model_module_version": "1.2.0",
            "_view_count": null,
            "flex_flow": null,
            "width": null,
            "min_width": null,
            "border": null,
            "align_items": null,
            "bottom": null,
            "_model_module": "@jupyter-widgets/base",
            "top": null,
            "grid_column": null,
            "overflow_y": null,
            "overflow_x": null,
            "grid_auto_flow": null,
            "grid_area": null,
            "grid_template_columns": null,
            "flex": null,
            "_model_name": "LayoutModel",
            "justify_items": null,
            "grid_row": null,
            "max_height": null,
            "align_content": null,
            "visibility": null,
            "align_self": null,
            "height": null,
            "min_height": null,
            "padding": null,
            "grid_auto_rows": null,
            "grid_gap": null,
            "max_width": null,
            "order": null,
            "_view_module_version": "1.2.0",
            "grid_template_areas": null,
            "object_position": null,
            "object_fit": null,
            "grid_auto_columns": null,
            "margin": null,
            "display": null,
            "left": null
          }
        },
        "5811bb63ff2f44b4b0726b288d5a38d5": {
          "model_module": "@jupyter-widgets/controls",
          "model_name": "DescriptionStyleModel",
          "state": {
            "_view_name": "StyleView",
            "_model_name": "DescriptionStyleModel",
            "description_width": "",
            "_view_module": "@jupyter-widgets/base",
            "_model_module_version": "1.5.0",
            "_view_count": null,
            "_view_module_version": "1.2.0",
            "_model_module": "@jupyter-widgets/controls"
          }
        },
        "02d4602cee694c6794aead87e495e5c4": {
          "model_module": "@jupyter-widgets/base",
          "model_name": "LayoutModel",
          "state": {
            "_view_name": "LayoutView",
            "grid_template_rows": null,
            "right": null,
            "justify_content": null,
            "_view_module": "@jupyter-widgets/base",
            "overflow": null,
            "_model_module_version": "1.2.0",
            "_view_count": null,
            "flex_flow": null,
            "width": null,
            "min_width": null,
            "border": null,
            "align_items": null,
            "bottom": null,
            "_model_module": "@jupyter-widgets/base",
            "top": null,
            "grid_column": null,
            "overflow_y": null,
            "overflow_x": null,
            "grid_auto_flow": null,
            "grid_area": null,
            "grid_template_columns": null,
            "flex": null,
            "_model_name": "LayoutModel",
            "justify_items": null,
            "grid_row": null,
            "max_height": null,
            "align_content": null,
            "visibility": null,
            "align_self": null,
            "height": null,
            "min_height": null,
            "padding": null,
            "grid_auto_rows": null,
            "grid_gap": null,
            "max_width": null,
            "order": null,
            "_view_module_version": "1.2.0",
            "grid_template_areas": null,
            "object_position": null,
            "object_fit": null,
            "grid_auto_columns": null,
            "margin": null,
            "display": null,
            "left": null
          }
        }
      }
    }
  },
  "cells": [
    {
      "cell_type": "markdown",
      "metadata": {
        "id": "view-in-github",
        "colab_type": "text"
      },
      "source": [
        "<a href=\"https://colab.research.google.com/github/rohts-patil/VQA-Med-2019/blob/master/notebooks/VQA_Organ_Classifier.ipynb\" target=\"_parent\"><img src=\"https://colab.research.google.com/assets/colab-badge.svg\" alt=\"Open In Colab\"/></a>"
      ]
    },
    {
      "cell_type": "code",
      "metadata": {
        "id": "MYcoABWmE9xx",
        "colab_type": "code",
        "outputId": "638772a3-2ec9-4fc9-da0f-2885b6d4ea03",
        "colab": {
          "base_uri": "https://localhost:8080/",
          "height": 137
        }
      },
      "source": [
        "from google.colab import drive\n",
        "drive.mount('/gdrive')\n",
        "%cd /gdrive/My\\ Drive/VQA"
      ],
      "execution_count": 1,
      "outputs": [
        {
          "output_type": "stream",
          "text": [
            "Go to this URL in a browser: https://accounts.google.com/o/oauth2/auth?client_id=947318989803-6bn6qk8qdgf4n4g3pfee6491hc0brc4i.apps.googleusercontent.com&redirect_uri=urn%3aietf%3awg%3aoauth%3a2.0%3aoob&response_type=code&scope=email%20https%3a%2f%2fwww.googleapis.com%2fauth%2fdocs.test%20https%3a%2f%2fwww.googleapis.com%2fauth%2fdrive%20https%3a%2f%2fwww.googleapis.com%2fauth%2fdrive.photos.readonly%20https%3a%2f%2fwww.googleapis.com%2fauth%2fpeopleapi.readonly\n",
            "\n",
            "Enter your authorization code:\n",
            "··········\n",
            "Mounted at /gdrive\n",
            "/gdrive/My Drive/VQA\n"
          ],
          "name": "stdout"
        }
      ]
    },
    {
      "cell_type": "code",
      "metadata": {
        "id": "5FKB1_buFP9C",
        "colab_type": "code",
        "colab": {}
      },
      "source": [
        "import glob\n",
        "import random\n",
        "\n",
        "import numpy as np\n",
        "import pandas as pd\n",
        "\n",
        "import time\n",
        "import datetime as dt\n",
        "import matplotlib.pyplot as plt\n",
        "from mpl_toolkits.axes_grid1 import ImageGrid\n",
        "from sklearn.preprocessing import LabelEncoder\n",
        "from os import listdir, makedirs, getcwd, remove\n",
        "from os.path import isfile, join, abspath, exists, isdir, expanduser\n",
        "from PIL import Image\n",
        "import torch\n",
        "from torch.optim import lr_scheduler\n",
        "from torch.autograd import Variable\n",
        "from torch.utils.data import Dataset, DataLoader\n",
        "import torchvision\n",
        "from torchvision import transforms, datasets, models\n",
        "from torch import optim, cuda\n",
        "from timeit import default_timer as timer"
      ],
      "execution_count": 0,
      "outputs": []
    },
    {
      "cell_type": "code",
      "metadata": {
        "id": "hr9KuYrTFa2U",
        "colab_type": "code",
        "colab": {}
      },
      "source": [
        "path =r'train/QAPairsByCategory'\n",
        "\n",
        "filenames = glob.glob(path + \"/*.txt\")\n",
        "\n",
        "dfs = []\n",
        "\n",
        "for filename in filenames:\n",
        "    df_temp = pd.read_csv(filename,delimiter='|',names=['id','question','answer'])\n",
        "    df_temp['label'] = df_temp.apply(lambda x: ((filename.split('/')[-1].replace('_train.txt',''))), axis=1)\n",
        "    dfs.append(df_temp)\n",
        "\n",
        "df_train = pd.concat(dfs, ignore_index=True)"
      ],
      "execution_count": 0,
      "outputs": []
    },
    {
      "cell_type": "code",
      "metadata": {
        "id": "7lhoc_zuFdOo",
        "colab_type": "code",
        "outputId": "d7fc5969-8fc8-4fed-a6c4-a6e629d07ffa",
        "colab": {
          "base_uri": "https://localhost:8080/",
          "height": 196
        }
      },
      "source": [
        "df_train.head()"
      ],
      "execution_count": 4,
      "outputs": [
        {
          "output_type": "execute_result",
          "data": {
            "text/html": [
              "<div>\n",
              "<style scoped>\n",
              "    .dataframe tbody tr th:only-of-type {\n",
              "        vertical-align: middle;\n",
              "    }\n",
              "\n",
              "    .dataframe tbody tr th {\n",
              "        vertical-align: top;\n",
              "    }\n",
              "\n",
              "    .dataframe thead th {\n",
              "        text-align: right;\n",
              "    }\n",
              "</style>\n",
              "<table border=\"1\" class=\"dataframe\">\n",
              "  <thead>\n",
              "    <tr style=\"text-align: right;\">\n",
              "      <th></th>\n",
              "      <th>id</th>\n",
              "      <th>question</th>\n",
              "      <th>answer</th>\n",
              "      <th>label</th>\n",
              "    </tr>\n",
              "  </thead>\n",
              "  <tbody>\n",
              "    <tr>\n",
              "      <th>0</th>\n",
              "      <td>synpic41148</td>\n",
              "      <td>what kind of image is this?</td>\n",
              "      <td>cta - ct angiography</td>\n",
              "      <td>C1_Modality</td>\n",
              "    </tr>\n",
              "    <tr>\n",
              "      <th>1</th>\n",
              "      <td>synpic43984</td>\n",
              "      <td>is this a t1 weighted image?</td>\n",
              "      <td>no</td>\n",
              "      <td>C1_Modality</td>\n",
              "    </tr>\n",
              "    <tr>\n",
              "      <th>2</th>\n",
              "      <td>synpic38930</td>\n",
              "      <td>what type of imaging modality is used to acqui...</td>\n",
              "      <td>us - ultrasound</td>\n",
              "      <td>C1_Modality</td>\n",
              "    </tr>\n",
              "    <tr>\n",
              "      <th>3</th>\n",
              "      <td>synpic52143</td>\n",
              "      <td>is this a noncontrast mri?</td>\n",
              "      <td>no</td>\n",
              "      <td>C1_Modality</td>\n",
              "    </tr>\n",
              "    <tr>\n",
              "      <th>4</th>\n",
              "      <td>synpic20934</td>\n",
              "      <td>what type of image modality is this?</td>\n",
              "      <td>xr - plain film</td>\n",
              "      <td>C1_Modality</td>\n",
              "    </tr>\n",
              "  </tbody>\n",
              "</table>\n",
              "</div>"
            ],
            "text/plain": [
              "            id  ...        label\n",
              "0  synpic41148  ...  C1_Modality\n",
              "1  synpic43984  ...  C1_Modality\n",
              "2  synpic38930  ...  C1_Modality\n",
              "3  synpic52143  ...  C1_Modality\n",
              "4  synpic20934  ...  C1_Modality\n",
              "\n",
              "[5 rows x 4 columns]"
            ]
          },
          "metadata": {
            "tags": []
          },
          "execution_count": 4
        }
      ]
    },
    {
      "cell_type": "code",
      "metadata": {
        "id": "FbkrB8kzbVVw",
        "colab_type": "code",
        "colab": {}
      },
      "source": [
        "path =r'val/QAPairsByCategory'\n",
        "\n",
        "filenames = glob.glob(path + \"/*.txt\")\n",
        "\n",
        "dfs = []\n",
        "\n",
        "for filename in filenames:\n",
        "    df_temp = pd.read_csv(filename,delimiter='|',names=['id','question','answer'])\n",
        "    df_temp['label'] = df_temp.apply(lambda x: (filename.split('/')[-1].replace('_val.txt','')), axis=1)\n",
        "    dfs.append(df_temp)\n",
        "\n",
        "df_valid = pd.concat(dfs, ignore_index=True)"
      ],
      "execution_count": 0,
      "outputs": []
    },
    {
      "cell_type": "code",
      "metadata": {
        "id": "b2pli5BmbaT9",
        "colab_type": "code",
        "outputId": "f98fe719-16da-4c03-dd38-0f83dc156e0f",
        "colab": {
          "base_uri": "https://localhost:8080/",
          "height": 196
        }
      },
      "source": [
        "df_valid.head()"
      ],
      "execution_count": 6,
      "outputs": [
        {
          "output_type": "execute_result",
          "data": {
            "text/html": [
              "<div>\n",
              "<style scoped>\n",
              "    .dataframe tbody tr th:only-of-type {\n",
              "        vertical-align: middle;\n",
              "    }\n",
              "\n",
              "    .dataframe tbody tr th {\n",
              "        vertical-align: top;\n",
              "    }\n",
              "\n",
              "    .dataframe thead th {\n",
              "        text-align: right;\n",
              "    }\n",
              "</style>\n",
              "<table border=\"1\" class=\"dataframe\">\n",
              "  <thead>\n",
              "    <tr style=\"text-align: right;\">\n",
              "      <th></th>\n",
              "      <th>id</th>\n",
              "      <th>question</th>\n",
              "      <th>answer</th>\n",
              "      <th>label</th>\n",
              "    </tr>\n",
              "  </thead>\n",
              "  <tbody>\n",
              "    <tr>\n",
              "      <th>0</th>\n",
              "      <td>synpic54733</td>\n",
              "      <td>what imaging modality was used to take this im...</td>\n",
              "      <td>ct with iv contrast</td>\n",
              "      <td>C1_Modality</td>\n",
              "    </tr>\n",
              "    <tr>\n",
              "      <th>1</th>\n",
              "      <td>synpic25647</td>\n",
              "      <td>what kind of scan is this?</td>\n",
              "      <td>xr - plain film</td>\n",
              "      <td>C1_Modality</td>\n",
              "    </tr>\n",
              "    <tr>\n",
              "      <th>2</th>\n",
              "      <td>synpic35681</td>\n",
              "      <td>was the mri taken with contrast?</td>\n",
              "      <td>no</td>\n",
              "      <td>C1_Modality</td>\n",
              "    </tr>\n",
              "    <tr>\n",
              "      <th>3</th>\n",
              "      <td>synpic39641</td>\n",
              "      <td>is this a t1 weighted, t2 weighted, or flair i...</td>\n",
              "      <td>t2</td>\n",
              "      <td>C1_Modality</td>\n",
              "    </tr>\n",
              "    <tr>\n",
              "      <th>4</th>\n",
              "      <td>synpic35693</td>\n",
              "      <td>is this a noncontrast mri?</td>\n",
              "      <td>yes</td>\n",
              "      <td>C1_Modality</td>\n",
              "    </tr>\n",
              "  </tbody>\n",
              "</table>\n",
              "</div>"
            ],
            "text/plain": [
              "            id  ...        label\n",
              "0  synpic54733  ...  C1_Modality\n",
              "1  synpic25647  ...  C1_Modality\n",
              "2  synpic35681  ...  C1_Modality\n",
              "3  synpic39641  ...  C1_Modality\n",
              "4  synpic35693  ...  C1_Modality\n",
              "\n",
              "[5 rows x 4 columns]"
            ]
          },
          "metadata": {
            "tags": []
          },
          "execution_count": 6
        }
      ]
    },
    {
      "cell_type": "code",
      "metadata": {
        "id": "g1M-O0nEGGAB",
        "colab_type": "code",
        "outputId": "3b935ab6-7580-480a-cd00-4e36f3543bf6",
        "colab": {
          "base_uri": "https://localhost:8080/",
          "height": 196
        }
      },
      "source": [
        "df_train = df_train[df_train['label'] == 'C3_Organ']\n",
        "df_train.head()"
      ],
      "execution_count": 7,
      "outputs": [
        {
          "output_type": "execute_result",
          "data": {
            "text/html": [
              "<div>\n",
              "<style scoped>\n",
              "    .dataframe tbody tr th:only-of-type {\n",
              "        vertical-align: middle;\n",
              "    }\n",
              "\n",
              "    .dataframe tbody tr th {\n",
              "        vertical-align: top;\n",
              "    }\n",
              "\n",
              "    .dataframe thead th {\n",
              "        text-align: right;\n",
              "    }\n",
              "</style>\n",
              "<table border=\"1\" class=\"dataframe\">\n",
              "  <thead>\n",
              "    <tr style=\"text-align: right;\">\n",
              "      <th></th>\n",
              "      <th>id</th>\n",
              "      <th>question</th>\n",
              "      <th>answer</th>\n",
              "      <th>label</th>\n",
              "    </tr>\n",
              "  </thead>\n",
              "  <tbody>\n",
              "    <tr>\n",
              "      <th>6400</th>\n",
              "      <td>synpic41148</td>\n",
              "      <td>which organ is captured by this ct scan?</td>\n",
              "      <td>lung, mediastinum, pleura</td>\n",
              "      <td>C3_Organ</td>\n",
              "    </tr>\n",
              "    <tr>\n",
              "      <th>6401</th>\n",
              "      <td>synpic43984</td>\n",
              "      <td>what organ system is primarily present in this...</td>\n",
              "      <td>skull and contents</td>\n",
              "      <td>C3_Organ</td>\n",
              "    </tr>\n",
              "    <tr>\n",
              "      <th>6402</th>\n",
              "      <td>synpic38930</td>\n",
              "      <td>which organ system is imaged?</td>\n",
              "      <td>genitourinary</td>\n",
              "      <td>C3_Organ</td>\n",
              "    </tr>\n",
              "    <tr>\n",
              "      <th>6403</th>\n",
              "      <td>synpic52143</td>\n",
              "      <td>the mri shows what organ system?</td>\n",
              "      <td>spine and contents</td>\n",
              "      <td>C3_Organ</td>\n",
              "    </tr>\n",
              "    <tr>\n",
              "      <th>6404</th>\n",
              "      <td>synpic20934</td>\n",
              "      <td>what organ system is shown in this x-ray?</td>\n",
              "      <td>spine and contents</td>\n",
              "      <td>C3_Organ</td>\n",
              "    </tr>\n",
              "  </tbody>\n",
              "</table>\n",
              "</div>"
            ],
            "text/plain": [
              "               id  ...     label\n",
              "6400  synpic41148  ...  C3_Organ\n",
              "6401  synpic43984  ...  C3_Organ\n",
              "6402  synpic38930  ...  C3_Organ\n",
              "6403  synpic52143  ...  C3_Organ\n",
              "6404  synpic20934  ...  C3_Organ\n",
              "\n",
              "[5 rows x 4 columns]"
            ]
          },
          "metadata": {
            "tags": []
          },
          "execution_count": 7
        }
      ]
    },
    {
      "cell_type": "code",
      "metadata": {
        "id": "uShzk4Bybfpv",
        "colab_type": "code",
        "outputId": "a897ae1f-6e5a-4ea9-d5d2-a25ea081288c",
        "colab": {
          "base_uri": "https://localhost:8080/",
          "height": 196
        }
      },
      "source": [
        "df_valid = df_valid[df_valid['label'] == 'C3_Organ']\n",
        "df_valid.head()"
      ],
      "execution_count": 8,
      "outputs": [
        {
          "output_type": "execute_result",
          "data": {
            "text/html": [
              "<div>\n",
              "<style scoped>\n",
              "    .dataframe tbody tr th:only-of-type {\n",
              "        vertical-align: middle;\n",
              "    }\n",
              "\n",
              "    .dataframe tbody tr th {\n",
              "        vertical-align: top;\n",
              "    }\n",
              "\n",
              "    .dataframe thead th {\n",
              "        text-align: right;\n",
              "    }\n",
              "</style>\n",
              "<table border=\"1\" class=\"dataframe\">\n",
              "  <thead>\n",
              "    <tr style=\"text-align: right;\">\n",
              "      <th></th>\n",
              "      <th>id</th>\n",
              "      <th>question</th>\n",
              "      <th>answer</th>\n",
              "      <th>label</th>\n",
              "    </tr>\n",
              "  </thead>\n",
              "  <tbody>\n",
              "    <tr>\n",
              "      <th>1000</th>\n",
              "      <td>synpic54733</td>\n",
              "      <td>what organ system is shown in the image?</td>\n",
              "      <td>face, sinuses, and neck</td>\n",
              "      <td>C3_Organ</td>\n",
              "    </tr>\n",
              "    <tr>\n",
              "      <th>1001</th>\n",
              "      <td>synpic25647</td>\n",
              "      <td>what organ system is being imaged?</td>\n",
              "      <td>lung, mediastinum, pleura</td>\n",
              "      <td>C3_Organ</td>\n",
              "    </tr>\n",
              "    <tr>\n",
              "      <th>1002</th>\n",
              "      <td>synpic35681</td>\n",
              "      <td>what part of the body is being imaged?</td>\n",
              "      <td>breast</td>\n",
              "      <td>C3_Organ</td>\n",
              "    </tr>\n",
              "    <tr>\n",
              "      <th>1003</th>\n",
              "      <td>synpic39641</td>\n",
              "      <td>what organ system is pictured here?</td>\n",
              "      <td>musculoskeletal</td>\n",
              "      <td>C3_Organ</td>\n",
              "    </tr>\n",
              "    <tr>\n",
              "      <th>1004</th>\n",
              "      <td>synpic35693</td>\n",
              "      <td>what is the organ principally shown in this mri?</td>\n",
              "      <td>heart and great vessels</td>\n",
              "      <td>C3_Organ</td>\n",
              "    </tr>\n",
              "  </tbody>\n",
              "</table>\n",
              "</div>"
            ],
            "text/plain": [
              "               id  ...     label\n",
              "1000  synpic54733  ...  C3_Organ\n",
              "1001  synpic25647  ...  C3_Organ\n",
              "1002  synpic35681  ...  C3_Organ\n",
              "1003  synpic39641  ...  C3_Organ\n",
              "1004  synpic35693  ...  C3_Organ\n",
              "\n",
              "[5 rows x 4 columns]"
            ]
          },
          "metadata": {
            "tags": []
          },
          "execution_count": 8
        }
      ]
    },
    {
      "cell_type": "code",
      "metadata": {
        "id": "PBccnuSmMwFs",
        "colab_type": "code",
        "outputId": "ac0e38e4-91b1-469a-9101-5079477c4603",
        "colab": {
          "base_uri": "https://localhost:8080/",
          "height": 196
        }
      },
      "source": [
        "labelencoder = LabelEncoder()\n",
        "df_train['organ_type'] = labelencoder.fit_transform(df_train['answer'])\n",
        "df_train.head()"
      ],
      "execution_count": 9,
      "outputs": [
        {
          "output_type": "execute_result",
          "data": {
            "text/html": [
              "<div>\n",
              "<style scoped>\n",
              "    .dataframe tbody tr th:only-of-type {\n",
              "        vertical-align: middle;\n",
              "    }\n",
              "\n",
              "    .dataframe tbody tr th {\n",
              "        vertical-align: top;\n",
              "    }\n",
              "\n",
              "    .dataframe thead th {\n",
              "        text-align: right;\n",
              "    }\n",
              "</style>\n",
              "<table border=\"1\" class=\"dataframe\">\n",
              "  <thead>\n",
              "    <tr style=\"text-align: right;\">\n",
              "      <th></th>\n",
              "      <th>id</th>\n",
              "      <th>question</th>\n",
              "      <th>answer</th>\n",
              "      <th>label</th>\n",
              "      <th>organ_type</th>\n",
              "    </tr>\n",
              "  </thead>\n",
              "  <tbody>\n",
              "    <tr>\n",
              "      <th>6400</th>\n",
              "      <td>synpic41148</td>\n",
              "      <td>which organ is captured by this ct scan?</td>\n",
              "      <td>lung, mediastinum, pleura</td>\n",
              "      <td>C3_Organ</td>\n",
              "      <td>5</td>\n",
              "    </tr>\n",
              "    <tr>\n",
              "      <th>6401</th>\n",
              "      <td>synpic43984</td>\n",
              "      <td>what organ system is primarily present in this...</td>\n",
              "      <td>skull and contents</td>\n",
              "      <td>C3_Organ</td>\n",
              "      <td>7</td>\n",
              "    </tr>\n",
              "    <tr>\n",
              "      <th>6402</th>\n",
              "      <td>synpic38930</td>\n",
              "      <td>which organ system is imaged?</td>\n",
              "      <td>genitourinary</td>\n",
              "      <td>C3_Organ</td>\n",
              "      <td>3</td>\n",
              "    </tr>\n",
              "    <tr>\n",
              "      <th>6403</th>\n",
              "      <td>synpic52143</td>\n",
              "      <td>the mri shows what organ system?</td>\n",
              "      <td>spine and contents</td>\n",
              "      <td>C3_Organ</td>\n",
              "      <td>8</td>\n",
              "    </tr>\n",
              "    <tr>\n",
              "      <th>6404</th>\n",
              "      <td>synpic20934</td>\n",
              "      <td>what organ system is shown in this x-ray?</td>\n",
              "      <td>spine and contents</td>\n",
              "      <td>C3_Organ</td>\n",
              "      <td>8</td>\n",
              "    </tr>\n",
              "  </tbody>\n",
              "</table>\n",
              "</div>"
            ],
            "text/plain": [
              "               id  ... organ_type\n",
              "6400  synpic41148  ...          5\n",
              "6401  synpic43984  ...          7\n",
              "6402  synpic38930  ...          3\n",
              "6403  synpic52143  ...          8\n",
              "6404  synpic20934  ...          8\n",
              "\n",
              "[5 rows x 5 columns]"
            ]
          },
          "metadata": {
            "tags": []
          },
          "execution_count": 9
        }
      ]
    },
    {
      "cell_type": "code",
      "metadata": {
        "id": "b2sSQKp1b3At",
        "colab_type": "code",
        "outputId": "027545ed-362a-44ae-dcb1-aa03dbca54e8",
        "colab": {
          "base_uri": "https://localhost:8080/",
          "height": 196
        }
      },
      "source": [
        "df_valid['organ_type'] = labelencoder.fit_transform(df_valid['answer'])\n",
        "df_valid.head()"
      ],
      "execution_count": 10,
      "outputs": [
        {
          "output_type": "execute_result",
          "data": {
            "text/html": [
              "<div>\n",
              "<style scoped>\n",
              "    .dataframe tbody tr th:only-of-type {\n",
              "        vertical-align: middle;\n",
              "    }\n",
              "\n",
              "    .dataframe tbody tr th {\n",
              "        vertical-align: top;\n",
              "    }\n",
              "\n",
              "    .dataframe thead th {\n",
              "        text-align: right;\n",
              "    }\n",
              "</style>\n",
              "<table border=\"1\" class=\"dataframe\">\n",
              "  <thead>\n",
              "    <tr style=\"text-align: right;\">\n",
              "      <th></th>\n",
              "      <th>id</th>\n",
              "      <th>question</th>\n",
              "      <th>answer</th>\n",
              "      <th>label</th>\n",
              "      <th>organ_type</th>\n",
              "    </tr>\n",
              "  </thead>\n",
              "  <tbody>\n",
              "    <tr>\n",
              "      <th>1000</th>\n",
              "      <td>synpic54733</td>\n",
              "      <td>what organ system is shown in the image?</td>\n",
              "      <td>face, sinuses, and neck</td>\n",
              "      <td>C3_Organ</td>\n",
              "      <td>1</td>\n",
              "    </tr>\n",
              "    <tr>\n",
              "      <th>1001</th>\n",
              "      <td>synpic25647</td>\n",
              "      <td>what organ system is being imaged?</td>\n",
              "      <td>lung, mediastinum, pleura</td>\n",
              "      <td>C3_Organ</td>\n",
              "      <td>5</td>\n",
              "    </tr>\n",
              "    <tr>\n",
              "      <th>1002</th>\n",
              "      <td>synpic35681</td>\n",
              "      <td>what part of the body is being imaged?</td>\n",
              "      <td>breast</td>\n",
              "      <td>C3_Organ</td>\n",
              "      <td>0</td>\n",
              "    </tr>\n",
              "    <tr>\n",
              "      <th>1003</th>\n",
              "      <td>synpic39641</td>\n",
              "      <td>what organ system is pictured here?</td>\n",
              "      <td>musculoskeletal</td>\n",
              "      <td>C3_Organ</td>\n",
              "      <td>6</td>\n",
              "    </tr>\n",
              "    <tr>\n",
              "      <th>1004</th>\n",
              "      <td>synpic35693</td>\n",
              "      <td>what is the organ principally shown in this mri?</td>\n",
              "      <td>heart and great vessels</td>\n",
              "      <td>C3_Organ</td>\n",
              "      <td>4</td>\n",
              "    </tr>\n",
              "  </tbody>\n",
              "</table>\n",
              "</div>"
            ],
            "text/plain": [
              "               id  ... organ_type\n",
              "1000  synpic54733  ...          1\n",
              "1001  synpic25647  ...          5\n",
              "1002  synpic35681  ...          0\n",
              "1003  synpic39641  ...          6\n",
              "1004  synpic35693  ...          4\n",
              "\n",
              "[5 rows x 5 columns]"
            ]
          },
          "metadata": {
            "tags": []
          },
          "execution_count": 10
        }
      ]
    },
    {
      "cell_type": "code",
      "metadata": {
        "id": "u9HBH1b-OCXb",
        "colab_type": "code",
        "outputId": "d4c2a678-2cfe-4fcc-f49c-e3fe66ae4c3d",
        "colab": {
          "base_uri": "https://localhost:8080/",
          "height": 184
        }
      },
      "source": [
        "integer_mapping = {l: i for i, l in enumerate(labelencoder.classes_)}\n",
        "integer_mapping"
      ],
      "execution_count": 11,
      "outputs": [
        {
          "output_type": "execute_result",
          "data": {
            "text/plain": [
              "{'breast': 0,\n",
              " 'face, sinuses, and neck': 1,\n",
              " 'gastrointestinal': 2,\n",
              " 'genitourinary': 3,\n",
              " 'heart and great vessels': 4,\n",
              " 'lung, mediastinum, pleura': 5,\n",
              " 'musculoskeletal': 6,\n",
              " 'skull and contents': 7,\n",
              " 'spine and contents': 8,\n",
              " 'vascular and lymphatic': 9}"
            ]
          },
          "metadata": {
            "tags": []
          },
          "execution_count": 11
        }
      ]
    },
    {
      "cell_type": "code",
      "metadata": {
        "id": "JZvfy-4uOM18",
        "colab_type": "code",
        "colab": {}
      },
      "source": [
        "class OrganDataSet(Dataset):\n",
        "    def __init__(self, image_names,organ_types, root_dir, transform=None):\n",
        "        self.image_names = image_names\n",
        "        self.organ_types = organ_types\n",
        "        self.root_dir = root_dir\n",
        "        self.transform = transform\n",
        "    \n",
        "    def __len__(self):\n",
        "        return len(self.image_names)\n",
        "    \n",
        "    def __getitem__(self, idx):\n",
        "        if torch.is_tensor(idx):\n",
        "            idx = idx.tolist()\n",
        "        img_name = '{}.jpg'.format(self.image_names[idx])\n",
        "        fullname = join(self.root_dir, img_name)\n",
        "        image = Image.open(fullname)\n",
        "        labels = self.organ_types[idx]\n",
        "        if self.transform:\n",
        "            image = self.transform(image)\n",
        "        return [image, labels]"
      ],
      "execution_count": 0,
      "outputs": []
    },
    {
      "cell_type": "code",
      "metadata": {
        "id": "Wy6mjJNMPfD1",
        "colab_type": "code",
        "colab": {}
      },
      "source": [
        "organ_trans = transforms.Compose([transforms.Resize(224),\n",
        "                               transforms.CenterCrop(224),\n",
        "                               transforms.ToTensor(),\n",
        "                               transforms.Normalize([0.485, 0.456, 0.406],\n",
        "                             [0.229, 0.224, 0.225])])\n",
        "train_ds = OrganDataSet(df_train['id'].values,df_train['organ_type'].values, r'train/Train_images/', transform=organ_trans)\n",
        "train_dl = DataLoader(train_ds, batch_size=4, shuffle=True, num_workers=4)\n",
        "\n",
        "organ_trans = transforms.Compose([transforms.Resize(224),\n",
        "                               transforms.CenterCrop(224),\n",
        "                               transforms.ToTensor(),\n",
        "                               transforms.Normalize([0.485, 0.456, 0.406],\n",
        "                             [0.229, 0.224, 0.225])])\n",
        "train_ds = OrganDataSet(df_train['id'].values,df_train['organ_type'].values, r'train/Train_images/', transform=organ_trans)\n",
        "train_dl = DataLoader(train_ds, batch_size=32, shuffle=True, num_workers=4)\n",
        "\n",
        "valid_ds = OrganDataSet(df_valid['id'].values,df_valid['organ_type'].values, r'val/Val_images/', transform=organ_trans)\n",
        "valid_dl = DataLoader(valid_ds, batch_size=32, shuffle=True, num_workers=4)"
      ],
      "execution_count": 0,
      "outputs": []
    },
    {
      "cell_type": "code",
      "metadata": {
        "id": "eCijl6qwQZSI",
        "colab_type": "code",
        "colab": {}
      },
      "source": [
        "def imshow(axis, inp):\n",
        "    \"\"\"Denormalize and show\"\"\"\n",
        "    inp = inp.numpy().transpose((1, 2, 0))\n",
        "    mean = np.array([0.485, 0.456, 0.406])\n",
        "    std = np.array([0.229, 0.224, 0.225])\n",
        "    inp = std * inp + mean\n",
        "    axis.imshow(inp)"
      ],
      "execution_count": 0,
      "outputs": []
    },
    {
      "cell_type": "code",
      "metadata": {
        "id": "xwrh8OfEQt3H",
        "colab_type": "code",
        "colab": {}
      },
      "source": [
        "img, label = next(iter(train_dl))\n",
        "print(img.size(), label.size())\n",
        "fig = plt.figure(1, figsize=(16, 4))\n",
        "grid = ImageGrid(fig, 111, nrows_ncols=(1, 4), axes_pad=0.05)    \n",
        "for i in range(img.size()[0]):\n",
        "    ax = grid[i]\n",
        "    imshow(ax, img[i])"
      ],
      "execution_count": 0,
      "outputs": []
    },
    {
      "cell_type": "code",
      "metadata": {
        "id": "6AEaRfHOcdQT",
        "colab_type": "code",
        "outputId": "38a1cdbf-a627-46d6-d6a3-d702bce63d34",
        "colab": {
          "base_uri": "https://localhost:8080/",
          "height": 665
        }
      },
      "source": [
        "img, label = next(iter(valid_dl))\n",
        "print(img.size(), label.size())\n",
        "fig = plt.figure(1, figsize=(16, 4))\n",
        "grid = ImageGrid(fig, 111, nrows_ncols=(1, 4), axes_pad=0.05)    \n",
        "for i in range(img.size()[0]):\n",
        "    ax = grid[i]\n",
        "    imshow(ax, img[i])"
      ],
      "execution_count": 26,
      "outputs": [
        {
          "output_type": "stream",
          "text": [
            "Clipping input data to the valid range for imshow with RGB data ([0..1] for floats or [0..255] for integers).\n",
            "Clipping input data to the valid range for imshow with RGB data ([0..1] for floats or [0..255] for integers).\n",
            "Clipping input data to the valid range for imshow with RGB data ([0..1] for floats or [0..255] for integers).\n",
            "Clipping input data to the valid range for imshow with RGB data ([0..1] for floats or [0..255] for integers).\n"
          ],
          "name": "stderr"
        },
        {
          "output_type": "stream",
          "text": [
            "torch.Size([32, 3, 224, 224]) torch.Size([32])\n"
          ],
          "name": "stdout"
        },
        {
          "output_type": "error",
          "ename": "IndexError",
          "evalue": "ignored",
          "traceback": [
            "\u001b[0;31m---------------------------------------------------------------------------\u001b[0m",
            "\u001b[0;31mIndexError\u001b[0m                                Traceback (most recent call last)",
            "\u001b[0;32m<ipython-input-26-15fb09a9dbd2>\u001b[0m in \u001b[0;36m<module>\u001b[0;34m()\u001b[0m\n\u001b[1;32m      4\u001b[0m \u001b[0mgrid\u001b[0m \u001b[0;34m=\u001b[0m \u001b[0mImageGrid\u001b[0m\u001b[0;34m(\u001b[0m\u001b[0mfig\u001b[0m\u001b[0;34m,\u001b[0m \u001b[0;36m111\u001b[0m\u001b[0;34m,\u001b[0m \u001b[0mnrows_ncols\u001b[0m\u001b[0;34m=\u001b[0m\u001b[0;34m(\u001b[0m\u001b[0;36m1\u001b[0m\u001b[0;34m,\u001b[0m \u001b[0;36m4\u001b[0m\u001b[0;34m)\u001b[0m\u001b[0;34m,\u001b[0m \u001b[0maxes_pad\u001b[0m\u001b[0;34m=\u001b[0m\u001b[0;36m0.05\u001b[0m\u001b[0;34m)\u001b[0m\u001b[0;34m\u001b[0m\u001b[0;34m\u001b[0m\u001b[0m\n\u001b[1;32m      5\u001b[0m \u001b[0;32mfor\u001b[0m \u001b[0mi\u001b[0m \u001b[0;32min\u001b[0m \u001b[0mrange\u001b[0m\u001b[0;34m(\u001b[0m\u001b[0mimg\u001b[0m\u001b[0;34m.\u001b[0m\u001b[0msize\u001b[0m\u001b[0;34m(\u001b[0m\u001b[0;34m)\u001b[0m\u001b[0;34m[\u001b[0m\u001b[0;36m0\u001b[0m\u001b[0;34m]\u001b[0m\u001b[0;34m)\u001b[0m\u001b[0;34m:\u001b[0m\u001b[0;34m\u001b[0m\u001b[0;34m\u001b[0m\u001b[0m\n\u001b[0;32m----> 6\u001b[0;31m     \u001b[0max\u001b[0m \u001b[0;34m=\u001b[0m \u001b[0mgrid\u001b[0m\u001b[0;34m[\u001b[0m\u001b[0mi\u001b[0m\u001b[0;34m]\u001b[0m\u001b[0;34m\u001b[0m\u001b[0;34m\u001b[0m\u001b[0m\n\u001b[0m\u001b[1;32m      7\u001b[0m     \u001b[0mimshow\u001b[0m\u001b[0;34m(\u001b[0m\u001b[0max\u001b[0m\u001b[0;34m,\u001b[0m \u001b[0mimg\u001b[0m\u001b[0;34m[\u001b[0m\u001b[0mi\u001b[0m\u001b[0;34m]\u001b[0m\u001b[0;34m)\u001b[0m\u001b[0;34m\u001b[0m\u001b[0;34m\u001b[0m\u001b[0m\n",
            "\u001b[0;32m/usr/local/lib/python3.6/dist-packages/mpl_toolkits/axes_grid1/axes_grid.py\u001b[0m in \u001b[0;36m__getitem__\u001b[0;34m(self, i)\u001b[0m\n\u001b[1;32m    330\u001b[0m \u001b[0;34m\u001b[0m\u001b[0m\n\u001b[1;32m    331\u001b[0m     \u001b[0;32mdef\u001b[0m \u001b[0m__getitem__\u001b[0m\u001b[0;34m(\u001b[0m\u001b[0mself\u001b[0m\u001b[0;34m,\u001b[0m \u001b[0mi\u001b[0m\u001b[0;34m)\u001b[0m\u001b[0;34m:\u001b[0m\u001b[0;34m\u001b[0m\u001b[0;34m\u001b[0m\u001b[0m\n\u001b[0;32m--> 332\u001b[0;31m         \u001b[0;32mreturn\u001b[0m \u001b[0mself\u001b[0m\u001b[0;34m.\u001b[0m\u001b[0maxes_all\u001b[0m\u001b[0;34m[\u001b[0m\u001b[0mi\u001b[0m\u001b[0;34m]\u001b[0m\u001b[0;34m\u001b[0m\u001b[0;34m\u001b[0m\u001b[0m\n\u001b[0m\u001b[1;32m    333\u001b[0m \u001b[0;34m\u001b[0m\u001b[0m\n\u001b[1;32m    334\u001b[0m     \u001b[0;32mdef\u001b[0m \u001b[0mget_geometry\u001b[0m\u001b[0;34m(\u001b[0m\u001b[0mself\u001b[0m\u001b[0;34m)\u001b[0m\u001b[0;34m:\u001b[0m\u001b[0;34m\u001b[0m\u001b[0;34m\u001b[0m\u001b[0m\n",
            "\u001b[0;31mIndexError\u001b[0m: list index out of range"
          ]
        },
        {
          "output_type": "display_data",
          "data": {
            "image/png": "[encoded data removed]",
            "text/plain": [
              "<Figure size 1152x288 with 8 Axes>"
            ]
          },
          "metadata": {
            "tags": [],
            "needs_background": "light"
          }
        }
      ]
    },
    {
      "cell_type": "code",
      "metadata": {
        "id": "AssAkhjL3BJc",
        "colab_type": "code",
        "colab": {}
      },
      "source": [
        "train_on_gpu = cuda.is_available()\n",
        "def get_pretrained_model(model_name):\n",
        "    \"\"\"Retrieve a pre-trained model from torchvision\n",
        "\n",
        "    Params\n",
        "    -------\n",
        "        model_name (str): name of the model (currently only accepts vgg16 and resnet50)\n",
        "\n",
        "    Return\n",
        "    --------\n",
        "        model (PyTorch model): cnn\n",
        "\n",
        "    \"\"\"\n",
        "\n",
        "    if model_name == 'vgg16':\n",
        "        model = models.vgg16(pretrained=True)\n",
        "\n",
        "        # Freeze early layers\n",
        "        for param in model.parameters():\n",
        "            param.requires_grad = False\n",
        "        n_inputs = model.classifier[6].in_features\n",
        "\n",
        "        # Add on classifier\n",
        "        model.classifier[6] = torch.nn.Sequential(\n",
        "            torch.nn.Linear(n_inputs, 256), torch.nn.ReLU(), torch.nn.Dropout(0.2),\n",
        "            torch.nn.Linear(256, 10), torch.nn.LogSoftmax(dim=1))\n",
        "\n",
        "    elif model_name == 'resnet50':\n",
        "        model = models.resnet50(pretrained=True)\n",
        "\n",
        "        for param in model.parameters():\n",
        "            param.requires_grad = False\n",
        "\n",
        "        n_inputs = model.fc.in_features\n",
        "        model.fc = torch.nn.Sequential(\n",
        "            torch.nn.Linear(n_inputs, 256), torch.nn.ReLU(), torch.nn.Dropout(0.2),\n",
        "            torch.nn.Linear(256, 10), torch.nn.LogSoftmax(dim=1))\n",
        "\n",
        "    # Move to gpu and parallelize\n",
        "    if train_on_gpu:\n",
        "        model = model.to('cuda')\n",
        "\n",
        "    return model"
      ],
      "execution_count": 0,
      "outputs": []
    },
    {
      "cell_type": "code",
      "metadata": {
        "id": "592ZjG2e8Wxg",
        "colab_type": "code",
        "colab": {
          "base_uri": "https://localhost:8080/",
          "height": 82,
          "referenced_widgets": [
            "62332e89e0094d2eb15c4d7060b09342",
            "615dfe275988439f8c3d2a59e9ff4e0d",
            "59e493906fb14fa8be034e7809685fdf",
            "538d0d0aa2d04ac797b26cbf05b15626",
            "21ca0cb89d4e4e46a45aa4f849583fb0",
            "f1b9f4c07a3847a9aa8a3de5e6970b27",
            "5811bb63ff2f44b4b0726b288d5a38d5",
            "02d4602cee694c6794aead87e495e5c4"
          ]
        },
        "outputId": "31deed80-a05f-472a-9212-d4e1507baecc"
      },
      "source": [
        "model = get_pretrained_model('vgg16')"
      ],
      "execution_count": 18,
      "outputs": [
        {
          "output_type": "stream",
          "text": [
            "Downloading: \"https://download.pytorch.org/models/vgg16-397923af.pth\" to /root/.cache/torch/checkpoints/vgg16-397923af.pth\n"
          ],
          "name": "stderr"
        },
        {
          "output_type": "display_data",
          "data": {
            "application/vnd.jupyter.widget-view+json": {
              "model_id": "62332e89e0094d2eb15c4d7060b09342",
              "version_minor": 0,
              "version_major": 2
            },
            "text/plain": [
              "HBox(children=(FloatProgress(value=0.0, max=553433881.0), HTML(value='')))"
            ]
          },
          "metadata": {
            "tags": []
          }
        },
        {
          "output_type": "stream",
          "text": [
            "\n"
          ],
          "name": "stdout"
        }
      ]
    },
    {
      "cell_type": "code",
      "metadata": {
        "id": "eqZoccD88ndf",
        "colab_type": "code",
        "colab": {}
      },
      "source": [
        "criterion = torch.nn.NLLLoss()\n",
        "optimizer = optim.Adam(model.parameters())"
      ],
      "execution_count": 0,
      "outputs": []
    },
    {
      "cell_type": "code",
      "metadata": {
        "id": "upT93FFF9GpL",
        "colab_type": "code",
        "colab": {}
      },
      "source": [
        "def train(model,\n",
        "          criterion,\n",
        "          optimizer,\n",
        "          train_loader,\n",
        "          valid_loader,\n",
        "          save_file_name,\n",
        "          max_epochs_stop=3,\n",
        "          n_epochs=20,\n",
        "          print_every=2):\n",
        "    \"\"\"Train a PyTorch Model\n",
        "\n",
        "    Params\n",
        "    --------\n",
        "        model (PyTorch model): cnn to train\n",
        "        criterion (PyTorch loss): objective to minimize\n",
        "        optimizer (PyTorch optimizier): optimizer to compute gradients of model parameters\n",
        "        train_loader (PyTorch dataloader): training dataloader to iterate through\n",
        "        valid_loader (PyTorch dataloader): validation dataloader used for early stopping\n",
        "        save_file_name (str ending in '.pt'): file path to save the model state dict\n",
        "        max_epochs_stop (int): maximum number of epochs with no improvement in validation loss for early stopping\n",
        "        n_epochs (int): maximum number of training epochs\n",
        "        print_every (int): frequency of epochs to print training stats\n",
        "\n",
        "    Returns\n",
        "    --------\n",
        "        model (PyTorch model): trained cnn with best weights\n",
        "        history (DataFrame): history of train and validation loss and accuracy\n",
        "    \"\"\"\n",
        "\n",
        "    # Early stopping intialization\n",
        "    epochs_no_improve = 0\n",
        "    valid_loss_min = np.Inf\n",
        "\n",
        "    valid_max_acc = 0\n",
        "    history = []\n",
        "\n",
        "    # Number of epochs already trained (if using loaded in model weights)\n",
        "    try:\n",
        "        print(f'Model has been trained for: {model.epochs} epochs.\\n')\n",
        "    except:\n",
        "        model.epochs = 0\n",
        "        print(f'Starting Training from Scratch.\\n')\n",
        "\n",
        "    overall_start = timer()\n",
        "\n",
        "    # Main loop\n",
        "    for epoch in range(n_epochs):\n",
        "\n",
        "        # keep track of training and validation loss each epoch\n",
        "        train_loss = 0.0\n",
        "        valid_loss = 0.0\n",
        "\n",
        "        train_acc = 0\n",
        "        valid_acc = 0\n",
        "\n",
        "        # Set to training\n",
        "        model.train()\n",
        "        start = timer()\n",
        "\n",
        "        # Training loop\n",
        "        for ii, (data, target) in enumerate(train_loader):\n",
        "            # Tensors to gpu\n",
        "            if train_on_gpu:\n",
        "                data, target = data.cuda(), target.cuda()\n",
        "\n",
        "            # Clear gradients\n",
        "            optimizer.zero_grad()\n",
        "            # Predicted outputs are log probabilities\n",
        "            output = model(data)\n",
        "\n",
        "            # Loss and backpropagation of gradients\n",
        "            loss = criterion(output, target)\n",
        "            loss.backward()\n",
        "\n",
        "            # Update the parameters\n",
        "            optimizer.step()\n",
        "\n",
        "            # Track train loss by multiplying average loss by number of examples in batch\n",
        "            train_loss += loss.item() * data.size(0)\n",
        "\n",
        "            # Calculate accuracy by finding max log probability\n",
        "            _, pred = torch.max(output, dim=1)\n",
        "            correct_tensor = pred.eq(target.data.view_as(pred))\n",
        "            # Need to convert correct tensor from int to float to average\n",
        "            accuracy = torch.mean(correct_tensor.type(torch.FloatTensor))\n",
        "            # Multiply average accuracy times the number of examples in batch\n",
        "            train_acc += accuracy.item() * data.size(0)\n",
        "\n",
        "            # Track training progress\n",
        "            print(\n",
        "                f'Epoch: {epoch}\\t{100 * (ii + 1) / len(train_loader):.2f}% complete. {timer() - start:.2f} seconds elapsed in epoch.',\n",
        "                end='\\r')\n",
        "\n",
        "        # After training loops ends, start validation\n",
        "        else:\n",
        "            model.epochs += 1\n",
        "\n",
        "            # Don't need to keep track of gradients\n",
        "            with torch.no_grad():\n",
        "                # Set to evaluation mode\n",
        "                model.eval()\n",
        "\n",
        "                # Validation loop\n",
        "                for data, target in valid_loader:\n",
        "                    # Tensors to gpu\n",
        "                    if train_on_gpu:\n",
        "                        data, target = data.cuda(), target.cuda()\n",
        "\n",
        "                    # Forward pass\n",
        "                    output = model(data)\n",
        "\n",
        "                    # Validation loss\n",
        "                    loss = criterion(output, target)\n",
        "                    # Multiply average loss times the number of examples in batch\n",
        "                    valid_loss += loss.item() * data.size(0)\n",
        "\n",
        "                    # Calculate validation accuracy\n",
        "                    _, pred = torch.max(output, dim=1)\n",
        "                    correct_tensor = pred.eq(target.data.view_as(pred))\n",
        "                    accuracy = torch.mean(\n",
        "                        correct_tensor.type(torch.FloatTensor))\n",
        "                    # Multiply average accuracy times the number of examples\n",
        "                    valid_acc += accuracy.item() * data.size(0)\n",
        "\n",
        "                # Calculate average losses\n",
        "                train_loss = train_loss / len(train_loader.dataset)\n",
        "                valid_loss = valid_loss / len(valid_loader.dataset)\n",
        "\n",
        "                # Calculate average accuracy\n",
        "                train_acc = train_acc / len(train_loader.dataset)\n",
        "                valid_acc = valid_acc / len(valid_loader.dataset)\n",
        "\n",
        "                history.append([train_loss, valid_loss, train_acc, valid_acc])\n",
        "\n",
        "                # Print training and validation results\n",
        "                if (epoch + 1) % print_every == 0:\n",
        "                    print(\n",
        "                        f'\\nEpoch: {epoch} \\tTraining Loss: {train_loss:.4f} \\tValidation Loss: {valid_loss:.4f}'\n",
        "                    )\n",
        "                    print(\n",
        "                        f'\\t\\tTraining Accuracy: {100 * train_acc:.2f}%\\t Validation Accuracy: {100 * valid_acc:.2f}%'\n",
        "                    )\n",
        "\n",
        "                # Save the model if validation loss decreases\n",
        "                if valid_loss < valid_loss_min:\n",
        "                    # Save model\n",
        "                    torch.save(model.state_dict(), save_file_name)\n",
        "                    # Track improvement\n",
        "                    epochs_no_improve = 0\n",
        "                    valid_loss_min = valid_loss\n",
        "                    valid_best_acc = valid_acc\n",
        "                    best_epoch = epoch\n",
        "\n",
        "                # Otherwise increment count of epochs with no improvement\n",
        "                else:\n",
        "                    epochs_no_improve += 1\n",
        "                    # Trigger early stopping\n",
        "                    if epochs_no_improve >= max_epochs_stop:\n",
        "                        print(\n",
        "                            f'\\nEarly Stopping! Total epochs: {epoch}. Best epoch: {best_epoch} with loss: {valid_loss_min:.2f} and acc: {100 * valid_acc:.2f}%'\n",
        "                        )\n",
        "                        total_time = timer() - overall_start\n",
        "                        print(\n",
        "                            f'{total_time:.2f} total seconds elapsed. {total_time / (epoch+1):.2f} seconds per epoch.'\n",
        "                        )\n",
        "\n",
        "                        # Load the best state dict\n",
        "                        model.load_state_dict(torch.load(save_file_name))\n",
        "                        # Attach the optimizer\n",
        "                        model.optimizer = optimizer\n",
        "\n",
        "                        # Format history\n",
        "                        history = pd.DataFrame(\n",
        "                            history,\n",
        "                            columns=[\n",
        "                                'train_loss', 'valid_loss', 'train_acc',\n",
        "                                'valid_acc'\n",
        "                            ])\n",
        "                        return model, history\n",
        "\n",
        "    # Attach the optimizer\n",
        "    model.optimizer = optimizer\n",
        "    # Record overall time and print out stats\n",
        "    total_time = timer() - overall_start\n",
        "    print(\n",
        "        f'\\nBest epoch: {best_epoch} with loss: {valid_loss_min:.2f} and acc: {100 * valid_acc:.2f}%'\n",
        "    )\n",
        "    print(\n",
        "        f'{total_time:.2f} total seconds elapsed. {total_time / (epoch):.2f} seconds per epoch.'\n",
        "    )\n",
        "    # Format history\n",
        "    history = pd.DataFrame(\n",
        "        history,\n",
        "        columns=['train_loss', 'valid_loss', 'train_acc', 'valid_acc'])\n",
        "    return model, history"
      ],
      "execution_count": 0,
      "outputs": []
    },
    {
      "cell_type": "code",
      "metadata": {
        "id": "6WCgQ9u49eaM",
        "colab_type": "code",
        "colab": {
          "base_uri": "https://localhost:8080/",
          "height": 502
        },
        "outputId": "9c1bdcaa-4017-4889-aef8-c2b3d5c44da3"
      },
      "source": [
        "  model, history = train(\n",
        "    model,\n",
        "    criterion,\n",
        "    optimizer,\n",
        "    train_dl,\n",
        "    valid_dl,\n",
        "    save_file_name=\"vgg\",\n",
        "    max_epochs_stop=5,\n",
        "    n_epochs=30,\n",
        "    print_every=2)"
      ],
      "execution_count": 27,
      "outputs": [
        {
          "output_type": "stream",
          "text": [
            "Model has been trained for: 0 epochs.\n",
            "\n",
            "\n",
            "Epoch: 1 \tTraining Loss: 1.0991 \tValidation Loss: 1.0230\n",
            "\t\tTraining Accuracy: 64.84%\t Validation Accuracy: 67.00%\n",
            "\n",
            "Epoch: 3 \tTraining Loss: 0.9585 \tValidation Loss: 0.9662\n",
            "\t\tTraining Accuracy: 69.06%\t Validation Accuracy: 70.40%\n",
            "\n",
            "Epoch: 5 \tTraining Loss: 0.8416 \tValidation Loss: 0.9565\n",
            "\t\tTraining Accuracy: 72.22%\t Validation Accuracy: 71.40%\n",
            "\n",
            "Epoch: 7 \tTraining Loss: 0.7630 \tValidation Loss: 0.9462\n",
            "\t\tTraining Accuracy: 75.31%\t Validation Accuracy: 71.60%\n",
            "\n",
            "Epoch: 9 \tTraining Loss: 0.6905 \tValidation Loss: 0.9384\n",
            "\t\tTraining Accuracy: 77.41%\t Validation Accuracy: 72.60%\n",
            "\n",
            "Epoch: 11 \tTraining Loss: 0.6294 \tValidation Loss: 0.9278\n",
            "\t\tTraining Accuracy: 78.69%\t Validation Accuracy: 72.20%\n",
            "\n",
            "Epoch: 13 \tTraining Loss: 0.5697 \tValidation Loss: 0.9504\n",
            "\t\tTraining Accuracy: 80.62%\t Validation Accuracy: 73.00%\n",
            "\n",
            "Epoch: 15 \tTraining Loss: 0.5324 \tValidation Loss: 0.9422\n",
            "\t\tTraining Accuracy: 82.09%\t Validation Accuracy: 75.40%\n",
            "\n",
            "Early Stopping! Total epochs: 16. Best epoch: 11 with loss: 0.93 and acc: 73.40%\n",
            "1330.60 total seconds elapsed. 78.27 seconds per epoch.\n"
          ],
          "name": "stdout"
        }
      ]
    },
    {
      "cell_type": "code",
      "metadata": {
        "id": "ggYHI3BrMTzz",
        "colab_type": "code",
        "colab": {
          "base_uri": "https://localhost:8080/",
          "height": 421
        },
        "outputId": "e0af57f4-defa-4a43-9bf1-121eb89cb0b6"
      },
      "source": [
        "plt.figure(figsize=(8, 6))\n",
        "for c in ['train_loss', 'valid_loss']:\n",
        "    plt.plot(\n",
        "        history[c], label=c)\n",
        "plt.legend()\n",
        "plt.xlabel('Epoch')\n",
        "plt.ylabel('Average Negative Log Likelihood')\n",
        "plt.title('Training and Validation Losses')"
      ],
      "execution_count": 28,
      "outputs": [
        {
          "output_type": "execute_result",
          "data": {
            "text/plain": [
              "Text(0.5, 1.0, 'Training and Validation Losses')"
            ]
          },
          "metadata": {
            "tags": []
          },
          "execution_count": 28
        },
        {
          "output_type": "display_data",
          "data": {
            "image/png": "[encoded data removed]",
            "text/plain": [
              "<Figure size 576x432 with 1 Axes>"
            ]
          },
          "metadata": {
            "tags": [],
            "needs_background": "light"
          }
        }
      ]
    },
    {
      "cell_type": "code",
      "metadata": {
        "id": "f9MrylGkMXkv",
        "colab_type": "code",
        "colab": {
          "base_uri": "https://localhost:8080/",
          "height": 421
        },
        "outputId": "6be9c459-db8b-43e8-c49b-156e55d844c4"
      },
      "source": [
        "plt.figure(figsize=(8, 6))\n",
        "for c in ['train_acc', 'valid_acc']:\n",
        "    plt.plot(\n",
        "        100 * history[c], label=c)\n",
        "plt.legend()\n",
        "plt.xlabel('Epoch')\n",
        "plt.ylabel('Average Accuracy')\n",
        "plt.title('Training and Validation Accuracy')"
      ],
      "execution_count": 29,
      "outputs": [
        {
          "output_type": "execute_result",
          "data": {
            "text/plain": [
              "Text(0.5, 1.0, 'Training and Validation Accuracy')"
            ]
          },
          "metadata": {
            "tags": []
          },
          "execution_count": 29
        },
        {
          "output_type": "display_data",
          "data": {
            "image/png": "[encoded data removed]",
            "text/plain": [
              "<Figure size 576x432 with 1 Axes>"
            ]
          },
          "metadata": {
            "tags": [],
            "needs_background": "light"
          }
        }
      ]
    },
    {
      "cell_type": "code",
      "metadata": {
        "id": "hyKM7QhMVnVe",
        "colab_type": "code",
        "colab": {}
      },
      "source": [
        "multi_gpu = False\n",
        "def save_checkpoint(model, path,model_name):\n",
        "    \"\"\"Save a PyTorch model checkpoint\n",
        "\n",
        "    Params\n",
        "    --------\n",
        "        model (PyTorch model): model to save\n",
        "        path (str): location to save model. Must start with `model_name-` and end in '.pth'\n",
        "\n",
        "    Returns\n",
        "    --------\n",
        "        None, save the `model` to `path`\n",
        "\n",
        "    \"\"\"\n",
        "\n",
        "    \n",
        "\n",
        "    # Basic details\n",
        "    checkpoint = {\n",
        "        'class_to_idx': model.class_to_idx,\n",
        "        'idx_to_class': model.idx_to_class,\n",
        "        'epochs': model.epochs,\n",
        "    }\n",
        "\n",
        "    # Extract the final classifier and the state dictionary\n",
        "    if model_name == 'vgg16':\n",
        "        # Check to see if model was parallelized\n",
        "        if multi_gpu:\n",
        "            checkpoint['classifier'] = model.module.classifier\n",
        "            checkpoint['state_dict'] = model.module.state_dict()\n",
        "        else:\n",
        "            checkpoint['classifier'] = model.classifier\n",
        "            checkpoint['state_dict'] = model.state_dict()\n",
        "\n",
        "    elif model_name == 'resnet50':\n",
        "        if multi_gpu:\n",
        "            checkpoint['fc'] = model.module.fc\n",
        "            checkpoint['state_dict'] = model.module.state_dict()\n",
        "        else:\n",
        "            checkpoint['fc'] = model.fc\n",
        "            checkpoint['state_dict'] = model.state_dict()\n",
        "\n",
        "    # Add the optimizer\n",
        "    checkpoint['optimizer'] = model.optimizer\n",
        "    checkpoint['optimizer_state_dict'] = model.optimizer.state_dict()\n",
        "\n",
        "    # Save the data to the path\n",
        "    torch.save(checkpoint, path)"
      ],
      "execution_count": 0,
      "outputs": []
    },
    {
      "cell_type": "code",
      "metadata": {
        "id": "Z2xDauxnVuPr",
        "colab_type": "code",
        "colab": {}
      },
      "source": [
        "torch.save(model.state_dict(), 'organ-vgg16.pt')\n",
        "#save_checkpoint(model, path='organ/vgg16.pth',model_name='vgg16')"
      ],
      "execution_count": 0,
      "outputs": []
    }
  ]
}